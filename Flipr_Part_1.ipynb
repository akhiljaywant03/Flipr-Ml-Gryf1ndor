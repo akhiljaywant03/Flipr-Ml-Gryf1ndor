{
  "nbformat": 4,
  "nbformat_minor": 0,
  "metadata": {
    "colab": {
      "name": "Flipr Part 1.ipynb",
      "provenance": [],
      "authorship_tag": "ABX9TyODm0SCDF2bhV5yWaKhyGEG",
      "include_colab_link": true
    },
    "kernelspec": {
      "name": "python3",
      "display_name": "Python 3"
    }
  },
  "cells": [
    {
      "cell_type": "markdown",
      "metadata": {
        "id": "view-in-github",
        "colab_type": "text"
      },
      "source": [
        "<a href=\"https://colab.research.google.com/github/tarun42/Flipr-Ml-Gryf1ndor/blob/master/Flipr_Part_1.ipynb\" target=\"_parent\"><img src=\"https://colab.research.google.com/assets/colab-badge.svg\" alt=\"Open In Colab\"/></a>"
      ]
    },
    {
      "cell_type": "code",
      "metadata": {
        "id": "K0gbEOnH8s5H",
        "colab_type": "code",
        "colab": {
          "base_uri": "https://localhost:8080/",
          "height": 70
        },
        "outputId": "565c27da-dfbf-4098-8726-0bdb00ff9eb6"
      },
      "source": [
        "import pandas as pd\n",
        "import numpy as np\n",
        "import math\n",
        "%matplotlib inline\n",
        "import warnings\n",
        "warnings.filterwarnings(\"ignore\")\n",
        "from google.colab import files\n",
        "import seaborn as sns\n",
        "import matplotlib.pyplot as plt\n",
        "from sklearn import preprocessing\n",
        "from sklearn.model_selection import train_test_split \n",
        "from sklearn.ensemble import RandomForestRegressor,  GradientBoostingRegressor\n",
        "from sklearn.pipeline import make_pipeline\n",
        "from sklearn.preprocessing import RobustScaler\n",
        "from sklearn.model_selection import KFold, cross_val_score, train_test_split\n",
        "import xgboost as xgb\n",
        "from sklearn.metrics import mean_squared_error, r2_score\n",
        "from sklearn.preprocessing import PolynomialFeatures\n",
        "from sklearn import metrics\n",
        "from sklearn.inspection import permutation_importance\n"
      ],
      "execution_count": 1,
      "outputs": [
        {
          "output_type": "stream",
          "text": [
            "/usr/local/lib/python3.6/dist-packages/statsmodels/tools/_testing.py:19: FutureWarning: pandas.util.testing is deprecated. Use the functions in the public API at pandas.testing instead.\n",
            "  import pandas.util.testing as tm\n"
          ],
          "name": "stderr"
        }
      ]
    },
    {
      "cell_type": "code",
      "metadata": {
        "id": "1hKCvHUj-MFk",
        "colab_type": "code",
        "colab": {
          "resources": {
            "http://localhost:8080/nbextensions/google.colab/files.js": {
              "data": "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",
              "ok": true,
              "headers": [
                [
                  "content-type",
                  "application/javascript"
                ]
              ],
              "status": 200,
              "status_text": ""
            }
          },
          "base_uri": "https://localhost:8080/",
          "height": 73
        },
        "outputId": "d8c9f73a-92d4-49c9-d8d5-efa02f2a2e7a"
      },
      "source": [
        "#upload dataset\n",
        "uploaded = files.upload()"
      ],
      "execution_count": 2,
      "outputs": [
        {
          "output_type": "display_data",
          "data": {
            "text/html": [
              "\n",
              "     <input type=\"file\" id=\"files-275a09da-e4c8-41af-8c2a-957af0faf37f\" name=\"files[]\" multiple disabled\n",
              "        style=\"border:none\" />\n",
              "     <output id=\"result-275a09da-e4c8-41af-8c2a-957af0faf37f\">\n",
              "      Upload widget is only available when the cell has been executed in the\n",
              "      current browser session. Please rerun this cell to enable.\n",
              "      </output>\n",
              "      <script src=\"/nbextensions/google.colab/files.js\"></script> "
            ],
            "text/plain": [
              "<IPython.core.display.HTML object>"
            ]
          },
          "metadata": {
            "tags": []
          }
        },
        {
          "output_type": "stream",
          "text": [
            "Saving Train_dataset.xlsx to Train_dataset.xlsx\n"
          ],
          "name": "stdout"
        }
      ]
    },
    {
      "cell_type": "code",
      "metadata": {
        "id": "-OZUh3Ck_JWM",
        "colab_type": "code",
        "colab": {
          "base_uri": "https://localhost:8080/",
          "height": 302
        },
        "outputId": "10727a5d-daaf-4c6a-cbf2-76256b63ea7c"
      },
      "source": [
        "#load dataset\n",
        "df = pd.read_excel(\"Train_dataset.xlsx\", sheet_name=0)\n",
        "#missing values\n",
        "df.isnull().sum()"
      ],
      "execution_count": 57,
      "outputs": [
        {
          "output_type": "execute_result",
          "data": {
            "text/plain": [
              "City                   0\n",
              "State                  0\n",
              "Type                   0\n",
              "Population [2011]     48\n",
              "Popuation [2001]     492\n",
              "Sex Ratio             10\n",
              "Median Age            18\n",
              "Avg Temp              17\n",
              "SWM                    4\n",
              "Toilets Avl           26\n",
              "Water Purity         158\n",
              "H Index              140\n",
              "Female Population    141\n",
              "# of hospitals        15\n",
              "Foreign Visitors      90\n",
              "Covid Cases            0\n",
              "dtype: int64"
            ]
          },
          "metadata": {
            "tags": []
          },
          "execution_count": 57
        }
      ]
    },
    {
      "cell_type": "code",
      "metadata": {
        "id": "ijkYoP3sHA0A",
        "colab_type": "code",
        "colab": {
          "base_uri": "https://localhost:8080/",
          "height": 118
        },
        "outputId": "6d1f557b-0bfb-4fd2-b049-72f810f82232"
      },
      "source": [
        "#handling data errors\n",
        "print(df['Type'].unique())\n",
        "df['Type'] = df['Type'].str.replace('.','')\n",
        "print(df['Type'].unique())\n"
      ],
      "execution_count": 58,
      "outputs": [
        {
          "output_type": "stream",
          "text": [
            "['M.C' 'MPUA' 'T' 'M' 'C-1T' 'M.Cl' 'M.Corp' 'N.P' 'UA' 'M.B.' 'N.Pd'\n",
            " 'M.Cl.' 'M.B' 'N.P.P' 'CMC' 'C.T' 'C.M.C' 'N.P.' 'Nagar Parishad' 'N.A.C'\n",
            " 'MB' 'M Cl' 'M.Corp.' 'U.A' 'N.P.P.' 'T.C' 'T.M.C' 'N.T' 'C.B' 'NPP'\n",
            " 'T.M.C.' 'NP' 'Np' 'C.T.' 'T.P' 'N.A' 'T.P.']\n",
            "['MC' 'MPUA' 'T' 'M' 'C-1T' 'MCl' 'MCorp' 'NP' 'UA' 'MB' 'NPd' 'NPP' 'CMC'\n",
            " 'CT' 'Nagar Parishad' 'NAC' 'M Cl' 'TC' 'TMC' 'NT' 'CB' 'Np' 'TP' 'NA']\n"
          ],
          "name": "stdout"
        }
      ]
    },
    {
      "cell_type": "code",
      "metadata": {
        "id": "xSQBD-KsCif-",
        "colab_type": "code",
        "colab": {
          "base_uri": "https://localhost:8080/",
          "height": 212
        },
        "outputId": "89fa4329-2a99-4931-aee9-7bde67989a1d"
      },
      "source": [
        "df.head()"
      ],
      "execution_count": 59,
      "outputs": [
        {
          "output_type": "execute_result",
          "data": {
            "text/html": [
              "<div>\n",
              "<style scoped>\n",
              "    .dataframe tbody tr th:only-of-type {\n",
              "        vertical-align: middle;\n",
              "    }\n",
              "\n",
              "    .dataframe tbody tr th {\n",
              "        vertical-align: top;\n",
              "    }\n",
              "\n",
              "    .dataframe thead th {\n",
              "        text-align: right;\n",
              "    }\n",
              "</style>\n",
              "<table border=\"1\" class=\"dataframe\">\n",
              "  <thead>\n",
              "    <tr style=\"text-align: right;\">\n",
              "      <th></th>\n",
              "      <th>City</th>\n",
              "      <th>State</th>\n",
              "      <th>Type</th>\n",
              "      <th>Population [2011]</th>\n",
              "      <th>Popuation [2001]</th>\n",
              "      <th>Sex Ratio</th>\n",
              "      <th>Median Age</th>\n",
              "      <th>Avg Temp</th>\n",
              "      <th>SWM</th>\n",
              "      <th>Toilets Avl</th>\n",
              "      <th>Water Purity</th>\n",
              "      <th>H Index</th>\n",
              "      <th>Female Population</th>\n",
              "      <th># of hospitals</th>\n",
              "      <th>Foreign Visitors</th>\n",
              "      <th>Covid Cases</th>\n",
              "    </tr>\n",
              "  </thead>\n",
              "  <tbody>\n",
              "    <tr>\n",
              "      <th>0</th>\n",
              "      <td>Mumbai</td>\n",
              "      <td>Maharashtra</td>\n",
              "      <td>MC</td>\n",
              "      <td>12442373.0</td>\n",
              "      <td>11978450.0</td>\n",
              "      <td>878.0</td>\n",
              "      <td>23.0</td>\n",
              "      <td>32.0</td>\n",
              "      <td>MEDIUM</td>\n",
              "      <td>219.0</td>\n",
              "      <td>150.0</td>\n",
              "      <td>0.700440</td>\n",
              "      <td>10924403.0</td>\n",
              "      <td>159.0</td>\n",
              "      <td>4408916.0</td>\n",
              "      <td>163115</td>\n",
              "    </tr>\n",
              "    <tr>\n",
              "      <th>1</th>\n",
              "      <td>Delhi</td>\n",
              "      <td>Delhi</td>\n",
              "      <td>MC</td>\n",
              "      <td>11007835.0</td>\n",
              "      <td>9879172.0</td>\n",
              "      <td>858.0</td>\n",
              "      <td>27.0</td>\n",
              "      <td>30.0</td>\n",
              "      <td>MEDIUM</td>\n",
              "      <td>215.0</td>\n",
              "      <td>196.0</td>\n",
              "      <td>0.920018</td>\n",
              "      <td>9444722.0</td>\n",
              "      <td>148.0</td>\n",
              "      <td>2379169.0</td>\n",
              "      <td>80188</td>\n",
              "    </tr>\n",
              "    <tr>\n",
              "      <th>2</th>\n",
              "      <td>Bangalore</td>\n",
              "      <td>Karnataka</td>\n",
              "      <td>MPUA</td>\n",
              "      <td>8436675.0</td>\n",
              "      <td>4301326.0</td>\n",
              "      <td>936.0</td>\n",
              "      <td>28.0</td>\n",
              "      <td>37.0</td>\n",
              "      <td>HIGH</td>\n",
              "      <td>212.0</td>\n",
              "      <td>102.0</td>\n",
              "      <td>0.097085</td>\n",
              "      <td>7896728.0</td>\n",
              "      <td>123.0</td>\n",
              "      <td>636502.0</td>\n",
              "      <td>141000</td>\n",
              "    </tr>\n",
              "    <tr>\n",
              "      <th>3</th>\n",
              "      <td>Hyderabad</td>\n",
              "      <td>Telangana</td>\n",
              "      <td>MPUA</td>\n",
              "      <td>6809970.0</td>\n",
              "      <td>3637483.0</td>\n",
              "      <td>930.0</td>\n",
              "      <td>23.0</td>\n",
              "      <td>31.0</td>\n",
              "      <td>MEDIUM</td>\n",
              "      <td>217.0</td>\n",
              "      <td>118.0</td>\n",
              "      <td>0.827744</td>\n",
              "      <td>6333272.0</td>\n",
              "      <td>110.0</td>\n",
              "      <td>126078.0</td>\n",
              "      <td>55123</td>\n",
              "    </tr>\n",
              "    <tr>\n",
              "      <th>4</th>\n",
              "      <td>Ahmedabad</td>\n",
              "      <td>Gujarat</td>\n",
              "      <td>MPUA</td>\n",
              "      <td>5570585.0</td>\n",
              "      <td>3520085.0</td>\n",
              "      <td>852.0</td>\n",
              "      <td>29.0</td>\n",
              "      <td>25.0</td>\n",
              "      <td>LOW</td>\n",
              "      <td>227.0</td>\n",
              "      <td>109.0</td>\n",
              "      <td>0.847941</td>\n",
              "      <td>4746138.0</td>\n",
              "      <td>73.0</td>\n",
              "      <td>284973.0</td>\n",
              "      <td>33204</td>\n",
              "    </tr>\n",
              "  </tbody>\n",
              "</table>\n",
              "</div>"
            ],
            "text/plain": [
              "        City        State  Type  ...  # of hospitals  Foreign Visitors  Covid Cases\n",
              "0     Mumbai  Maharashtra    MC  ...           159.0         4408916.0       163115\n",
              "1      Delhi        Delhi    MC  ...           148.0         2379169.0        80188\n",
              "2  Bangalore    Karnataka  MPUA  ...           123.0          636502.0       141000\n",
              "3  Hyderabad    Telangana  MPUA  ...           110.0          126078.0        55123\n",
              "4  Ahmedabad      Gujarat  MPUA  ...            73.0          284973.0        33204\n",
              "\n",
              "[5 rows x 16 columns]"
            ]
          },
          "metadata": {
            "tags": []
          },
          "execution_count": 59
        }
      ]
    },
    {
      "cell_type": "markdown",
      "metadata": {
        "id": "GXEjHIj7_sy7",
        "colab_type": "text"
      },
      "source": [
        "# Handling Missing values "
      ]
    },
    {
      "cell_type": "code",
      "metadata": {
        "id": "qzH1khJJ_amo",
        "colab_type": "code",
        "colab": {}
      },
      "source": [
        "l_population2011=[]\n",
        "\n",
        "#filing missing values of population by sex ratio and female population\n",
        "for i in range(len(df.values)):\n",
        "  if(math.isnan(df['Population [2011]'][i]) and (not math.isnan(df['Female Population'][i])) and (not math.isnan(df['Sex Ratio'][i]))):\n",
        "    df['Population [2011]'][i]=(df['Female Population'][i]/(1000*df['Sex Ratio'][i]))+df['Female Population'][i]\n",
        "    # print(\"hello\")\n",
        "  if((not math.isnan(df['Population [2011]'][i])) and ( math.isnan(df['Female Population'][i])) and (not math.isnan(df['Sex Ratio'][i]))):\n",
        "    df['Female Population'][i]=df['Population [2011]'][i]*(1000*df['Sex Ratio'][i])/(1+(1000*df['Sex Ratio'][i]))\n",
        "  \n",
        "  if((not math.isnan(df['Population [2011]'][i])) and ( not math.isnan(df['Female Population'][i])) and ( math.isnan(df['Sex Ratio'][i]))):\n",
        "    df['Sex Ratio'][i]=df['Female Population'][i]/(1000*(df['Population [2011]'][i]-df['Female Population'][i]))"
      ],
      "execution_count": 60,
      "outputs": []
    },
    {
      "cell_type": "code",
      "metadata": {
        "id": "Lg1FfI9wBCmk",
        "colab_type": "code",
        "colab": {}
      },
      "source": [
        "#Handling Missing values for Purity\n",
        "df['Water Purity']=df['Water Purity'].fillna((df['Water Purity'].mean()))  "
      ],
      "execution_count": 61,
      "outputs": []
    },
    {
      "cell_type": "code",
      "metadata": {
        "id": "QzTGJ2BXBNet",
        "colab_type": "code",
        "colab": {}
      },
      "source": [
        "#Handling Missing values for Foregin Visitors by state\n",
        "grouped = df.groupby('State')\n",
        "j = 0\n",
        "i=0\n",
        "means={}\n",
        "for col,group in grouped:\n",
        "    means[col] = group['Foreign Visitors'].mean()                          \n",
        "    #print(col)\n",
        "for i in range(len(df.values)):\n",
        "  if(math.isnan(df['Foreign Visitors'][i])):\n",
        "    #print(df3['State'][i])\n",
        "    j+=1\n",
        "    df['Foreign Visitors'][i] = means[df['State'][i]]"
      ],
      "execution_count": 62,
      "outputs": []
    },
    {
      "cell_type": "code",
      "metadata": {
        "id": "qZ1gjwcTBuvE",
        "colab_type": "code",
        "colab": {}
      },
      "source": [
        "#Handling Missing values for Toilets by city type \n",
        "grouped = df.groupby('Type')\n",
        "j = 0\n",
        "i=0\n",
        "means={}\n",
        "for col,group in grouped:\n",
        "    means[col] = group['Toilets Avl'].mean()                         \n",
        "    \n",
        "for i in range(len(df.values)):\n",
        "  if(math.isnan(df['Toilets Avl'][i])):   \n",
        "    j+=1\n",
        "    df['Toilets Avl'][i] = means[df['Type'][i]]"
      ],
      "execution_count": 63,
      "outputs": []
    },
    {
      "cell_type": "code",
      "metadata": {
        "id": "6KrNsjOAC4HJ",
        "colab_type": "code",
        "colab": {}
      },
      "source": [
        "#Handling Missing values for Tempearture by state\n",
        "grouped = df.groupby('State')\n",
        "j = 0\n",
        "i=0\n",
        "means={}\n",
        "for col,group in grouped:\n",
        "    means[col] = group['Avg Temp'].mean()                           \n",
        "    \n",
        "for i in range(len(df.values)):\n",
        "  if(math.isnan(df['Avg Temp'][i])):\n",
        "    \n",
        "    j+=1\n",
        "    df['Avg Temp'][i] = means[df['State'][i]]\n",
        "for i in range(len(df.values)):\n",
        "    if(df['State'][i] == \"Sikkim\"):\n",
        "        df['Avg Temp'][i] = means['Assam']\n",
        "    if(df['State'][i] == \"Andaman and Nicobar Islands\"):\n",
        "        df['Avg Temp'][i] = 23"
      ],
      "execution_count": 64,
      "outputs": []
    },
    {
      "cell_type": "code",
      "metadata": {
        "id": "V-oRy8dbDPht",
        "colab_type": "code",
        "colab": {}
      },
      "source": [
        "#Handling Missing values for hospitals by type of city\n",
        "grouped = df.groupby('Type')\n",
        "j = 0\n",
        "i=0\n",
        "means1={}\n",
        "for col,group in grouped:\n",
        "    means1[col] = group['# of hospitals'].mean()                           #imputer hospitals\n",
        "    \n",
        "for i in range(len(df.values)):\n",
        "  if(math.isnan(df['# of hospitals'][i])):\n",
        "    \n",
        "    j+=1\n",
        "    df['# of hospitals'][i] = means1[df['Type'][i]]\n"
      ],
      "execution_count": 65,
      "outputs": []
    },
    {
      "cell_type": "code",
      "metadata": {
        "id": "URnie2OMIDRl",
        "colab_type": "code",
        "colab": {
          "base_uri": "https://localhost:8080/",
          "height": 302
        },
        "outputId": "79004641-89b2-492b-cac6-2ff9a97107b5"
      },
      "source": [
        "#missing values\n",
        "df.isnull().sum()"
      ],
      "execution_count": 66,
      "outputs": [
        {
          "output_type": "execute_result",
          "data": {
            "text/plain": [
              "City                   0\n",
              "State                  0\n",
              "Type                   0\n",
              "Population [2011]      7\n",
              "Popuation [2001]     492\n",
              "Sex Ratio              0\n",
              "Median Age            18\n",
              "Avg Temp               0\n",
              "SWM                    4\n",
              "Toilets Avl            0\n",
              "Water Purity           0\n",
              "H Index              140\n",
              "Female Population      7\n",
              "# of hospitals         0\n",
              "Foreign Visitors       0\n",
              "Covid Cases            0\n",
              "dtype: int64"
            ]
          },
          "metadata": {
            "tags": []
          },
          "execution_count": 66
        }
      ]
    },
    {
      "cell_type": "markdown",
      "metadata": {
        "id": "vE8v-wimA7x_",
        "colab_type": "text"
      },
      "source": [
        "# Feature Selection"
      ]
    },
    {
      "cell_type": "code",
      "metadata": {
        "id": "FDUHIJkDASpD",
        "colab_type": "code",
        "colab": {
          "base_uri": "https://localhost:8080/",
          "height": 640
        },
        "outputId": "82d21820-f25f-41b1-a07b-fd3b3261e548"
      },
      "source": [
        "plt.figure(figsize=(12, 9))\n",
        "sns.heatmap(df.corr(), annot=True)"
      ],
      "execution_count": 67,
      "outputs": [
        {
          "output_type": "execute_result",
          "data": {
            "text/plain": [
              "<matplotlib.axes._subplots.AxesSubplot at 0x7fc89108c3c8>"
            ]
          },
          "metadata": {
            "tags": []
          },
          "execution_count": 67
        },
        {
          "output_type": "display_data",
          "data": {
            "image/png": "[encoded data removed]",
            "text/plain": [
              "<Figure size 864x648 with 2 Axes>"
            ]
          },
          "metadata": {
            "tags": [],
            "needs_background": "light"
          }
        }
      ]
    },
    {
      "cell_type": "code",
      "metadata": {
        "id": "KUO2mzSgAgK6",
        "colab_type": "code",
        "colab": {
          "base_uri": "https://localhost:8080/",
          "height": 195
        },
        "outputId": "9e577223-ccf9-4341-f043-13c755947586"
      },
      "source": [
        "#dropping these columns due to low correlation with covid cases\n",
        "df = df.drop(['H Index','Popuation [2001]','Median Age'], axis = 1)\n",
        "df.head()"
      ],
      "execution_count": 68,
      "outputs": [
        {
          "output_type": "execute_result",
          "data": {
            "text/html": [
              "<div>\n",
              "<style scoped>\n",
              "    .dataframe tbody tr th:only-of-type {\n",
              "        vertical-align: middle;\n",
              "    }\n",
              "\n",
              "    .dataframe tbody tr th {\n",
              "        vertical-align: top;\n",
              "    }\n",
              "\n",
              "    .dataframe thead th {\n",
              "        text-align: right;\n",
              "    }\n",
              "</style>\n",
              "<table border=\"1\" class=\"dataframe\">\n",
              "  <thead>\n",
              "    <tr style=\"text-align: right;\">\n",
              "      <th></th>\n",
              "      <th>City</th>\n",
              "      <th>State</th>\n",
              "      <th>Type</th>\n",
              "      <th>Population [2011]</th>\n",
              "      <th>Sex Ratio</th>\n",
              "      <th>Avg Temp</th>\n",
              "      <th>SWM</th>\n",
              "      <th>Toilets Avl</th>\n",
              "      <th>Water Purity</th>\n",
              "      <th>Female Population</th>\n",
              "      <th># of hospitals</th>\n",
              "      <th>Foreign Visitors</th>\n",
              "      <th>Covid Cases</th>\n",
              "    </tr>\n",
              "  </thead>\n",
              "  <tbody>\n",
              "    <tr>\n",
              "      <th>0</th>\n",
              "      <td>Mumbai</td>\n",
              "      <td>Maharashtra</td>\n",
              "      <td>MC</td>\n",
              "      <td>12442373.0</td>\n",
              "      <td>878.0</td>\n",
              "      <td>32.0</td>\n",
              "      <td>MEDIUM</td>\n",
              "      <td>219.0</td>\n",
              "      <td>150.0</td>\n",
              "      <td>10924403.0</td>\n",
              "      <td>159.0</td>\n",
              "      <td>4408916.0</td>\n",
              "      <td>163115</td>\n",
              "    </tr>\n",
              "    <tr>\n",
              "      <th>1</th>\n",
              "      <td>Delhi</td>\n",
              "      <td>Delhi</td>\n",
              "      <td>MC</td>\n",
              "      <td>11007835.0</td>\n",
              "      <td>858.0</td>\n",
              "      <td>30.0</td>\n",
              "      <td>MEDIUM</td>\n",
              "      <td>215.0</td>\n",
              "      <td>196.0</td>\n",
              "      <td>9444722.0</td>\n",
              "      <td>148.0</td>\n",
              "      <td>2379169.0</td>\n",
              "      <td>80188</td>\n",
              "    </tr>\n",
              "    <tr>\n",
              "      <th>2</th>\n",
              "      <td>Bangalore</td>\n",
              "      <td>Karnataka</td>\n",
              "      <td>MPUA</td>\n",
              "      <td>8436675.0</td>\n",
              "      <td>936.0</td>\n",
              "      <td>37.0</td>\n",
              "      <td>HIGH</td>\n",
              "      <td>212.0</td>\n",
              "      <td>102.0</td>\n",
              "      <td>7896728.0</td>\n",
              "      <td>123.0</td>\n",
              "      <td>636502.0</td>\n",
              "      <td>141000</td>\n",
              "    </tr>\n",
              "    <tr>\n",
              "      <th>3</th>\n",
              "      <td>Hyderabad</td>\n",
              "      <td>Telangana</td>\n",
              "      <td>MPUA</td>\n",
              "      <td>6809970.0</td>\n",
              "      <td>930.0</td>\n",
              "      <td>31.0</td>\n",
              "      <td>MEDIUM</td>\n",
              "      <td>217.0</td>\n",
              "      <td>118.0</td>\n",
              "      <td>6333272.0</td>\n",
              "      <td>110.0</td>\n",
              "      <td>126078.0</td>\n",
              "      <td>55123</td>\n",
              "    </tr>\n",
              "    <tr>\n",
              "      <th>4</th>\n",
              "      <td>Ahmedabad</td>\n",
              "      <td>Gujarat</td>\n",
              "      <td>MPUA</td>\n",
              "      <td>5570585.0</td>\n",
              "      <td>852.0</td>\n",
              "      <td>25.0</td>\n",
              "      <td>LOW</td>\n",
              "      <td>227.0</td>\n",
              "      <td>109.0</td>\n",
              "      <td>4746138.0</td>\n",
              "      <td>73.0</td>\n",
              "      <td>284973.0</td>\n",
              "      <td>33204</td>\n",
              "    </tr>\n",
              "  </tbody>\n",
              "</table>\n",
              "</div>"
            ],
            "text/plain": [
              "        City        State  Type  ...  # of hospitals  Foreign Visitors  Covid Cases\n",
              "0     Mumbai  Maharashtra    MC  ...           159.0         4408916.0       163115\n",
              "1      Delhi        Delhi    MC  ...           148.0         2379169.0        80188\n",
              "2  Bangalore    Karnataka  MPUA  ...           123.0          636502.0       141000\n",
              "3  Hyderabad    Telangana  MPUA  ...           110.0          126078.0        55123\n",
              "4  Ahmedabad      Gujarat  MPUA  ...            73.0          284973.0        33204\n",
              "\n",
              "[5 rows x 13 columns]"
            ]
          },
          "metadata": {
            "tags": []
          },
          "execution_count": 68
        }
      ]
    },
    {
      "cell_type": "code",
      "metadata": {
        "id": "toQ-l2a4Azm1",
        "colab_type": "code",
        "colab": {
          "base_uri": "https://localhost:8080/",
          "height": 34
        },
        "outputId": "f69e4853-4d7a-454c-97ab-a3e9a952cbba"
      },
      "source": [
        "## SWM encoding\n",
        "j = 0\n",
        "swm = {}\n",
        "for i in df['SWM'].unique():\n",
        "  if j<3:\n",
        "    swm[i] = j\n",
        "    j+=1\n",
        "for i in range(len(df)):\n",
        "  if df['SWM'][i] in swm.keys():\n",
        "    df['SWM'][i] = swm[df['SWM'][i]]\n",
        "print(df['SWM'].unique())"
      ],
      "execution_count": 69,
      "outputs": [
        {
          "output_type": "stream",
          "text": [
            "[0 1 2 nan]\n"
          ],
          "name": "stdout"
        }
      ]
    },
    {
      "cell_type": "code",
      "metadata": {
        "id": "9KXalqfRFWgE",
        "colab_type": "code",
        "colab": {
          "base_uri": "https://localhost:8080/",
          "height": 50
        },
        "outputId": "588b05ba-de94-44d4-d58b-507b7e5d2914"
      },
      "source": [
        "## state encoding\n",
        "j = 0\n",
        "state = {}\n",
        "for i in df['State'].unique():\n",
        "  state[i] = j\n",
        "  j+=1\n",
        "for i in range(len(df)):\n",
        "  if df['State'][i] in state.keys():\n",
        "    df['State'][i] = state[df['State'][i]]\n",
        "print(df['State'].unique())"
      ],
      "execution_count": 70,
      "outputs": [
        {
          "output_type": "stream",
          "text": [
            "[0 1 2 3 4 5 6 7 8 9 10 11 12 13 14 15 16 17 18 19 20 21 22 23 24 25 26 27\n",
            " 28 29 30 31 32]\n"
          ],
          "name": "stdout"
        }
      ]
    },
    {
      "cell_type": "code",
      "metadata": {
        "id": "B4iZrxktFhur",
        "colab_type": "code",
        "colab": {
          "base_uri": "https://localhost:8080/",
          "height": 67
        },
        "outputId": "8fae1473-8ac3-4e71-c981-ae0d6014cf25"
      },
      "source": [
        "## city type encoding\n",
        "j = 0\n",
        "c_type = {}\n",
        "print(df['Type'].unique())\n",
        "for i in df['Type'].unique():\n",
        "  c_type[i] = j\n",
        "  j+=1\n",
        "for i in range(len(df)):\n",
        "  if df['Type'][i] in c_type.keys():\n",
        "    df['Type'][i] = c_type[df['Type'][i]]\n",
        "print(df['Type'].unique())"
      ],
      "execution_count": 71,
      "outputs": [
        {
          "output_type": "stream",
          "text": [
            "['MC' 'MPUA' 'T' 'M' 'C-1T' 'MCl' 'MCorp' 'NP' 'UA' 'MB' 'NPd' 'NPP' 'CMC'\n",
            " 'CT' 'Nagar Parishad' 'NAC' 'M Cl' 'TC' 'TMC' 'NT' 'CB' 'Np' 'TP' 'NA']\n",
            "[0 1 2 3 4 5 6 7 8 9 10 11 12 13 14 15 16 17 18 19 20 21 22 23]\n"
          ],
          "name": "stdout"
        }
      ]
    },
    {
      "cell_type": "code",
      "metadata": {
        "id": "J0ye7bCAFyv9",
        "colab_type": "code",
        "colab": {
          "base_uri": "https://localhost:8080/",
          "height": 195
        },
        "outputId": "017dbdd8-b697-4be6-fb2c-cdb673b51e53"
      },
      "source": [
        "df.head()"
      ],
      "execution_count": 72,
      "outputs": [
        {
          "output_type": "execute_result",
          "data": {
            "text/html": [
              "<div>\n",
              "<style scoped>\n",
              "    .dataframe tbody tr th:only-of-type {\n",
              "        vertical-align: middle;\n",
              "    }\n",
              "\n",
              "    .dataframe tbody tr th {\n",
              "        vertical-align: top;\n",
              "    }\n",
              "\n",
              "    .dataframe thead th {\n",
              "        text-align: right;\n",
              "    }\n",
              "</style>\n",
              "<table border=\"1\" class=\"dataframe\">\n",
              "  <thead>\n",
              "    <tr style=\"text-align: right;\">\n",
              "      <th></th>\n",
              "      <th>City</th>\n",
              "      <th>State</th>\n",
              "      <th>Type</th>\n",
              "      <th>Population [2011]</th>\n",
              "      <th>Sex Ratio</th>\n",
              "      <th>Avg Temp</th>\n",
              "      <th>SWM</th>\n",
              "      <th>Toilets Avl</th>\n",
              "      <th>Water Purity</th>\n",
              "      <th>Female Population</th>\n",
              "      <th># of hospitals</th>\n",
              "      <th>Foreign Visitors</th>\n",
              "      <th>Covid Cases</th>\n",
              "    </tr>\n",
              "  </thead>\n",
              "  <tbody>\n",
              "    <tr>\n",
              "      <th>0</th>\n",
              "      <td>Mumbai</td>\n",
              "      <td>0</td>\n",
              "      <td>0</td>\n",
              "      <td>12442373.0</td>\n",
              "      <td>878.0</td>\n",
              "      <td>32.0</td>\n",
              "      <td>0</td>\n",
              "      <td>219.0</td>\n",
              "      <td>150.0</td>\n",
              "      <td>10924403.0</td>\n",
              "      <td>159.0</td>\n",
              "      <td>4408916.0</td>\n",
              "      <td>163115</td>\n",
              "    </tr>\n",
              "    <tr>\n",
              "      <th>1</th>\n",
              "      <td>Delhi</td>\n",
              "      <td>1</td>\n",
              "      <td>0</td>\n",
              "      <td>11007835.0</td>\n",
              "      <td>858.0</td>\n",
              "      <td>30.0</td>\n",
              "      <td>0</td>\n",
              "      <td>215.0</td>\n",
              "      <td>196.0</td>\n",
              "      <td>9444722.0</td>\n",
              "      <td>148.0</td>\n",
              "      <td>2379169.0</td>\n",
              "      <td>80188</td>\n",
              "    </tr>\n",
              "    <tr>\n",
              "      <th>2</th>\n",
              "      <td>Bangalore</td>\n",
              "      <td>2</td>\n",
              "      <td>1</td>\n",
              "      <td>8436675.0</td>\n",
              "      <td>936.0</td>\n",
              "      <td>37.0</td>\n",
              "      <td>1</td>\n",
              "      <td>212.0</td>\n",
              "      <td>102.0</td>\n",
              "      <td>7896728.0</td>\n",
              "      <td>123.0</td>\n",
              "      <td>636502.0</td>\n",
              "      <td>141000</td>\n",
              "    </tr>\n",
              "    <tr>\n",
              "      <th>3</th>\n",
              "      <td>Hyderabad</td>\n",
              "      <td>3</td>\n",
              "      <td>1</td>\n",
              "      <td>6809970.0</td>\n",
              "      <td>930.0</td>\n",
              "      <td>31.0</td>\n",
              "      <td>0</td>\n",
              "      <td>217.0</td>\n",
              "      <td>118.0</td>\n",
              "      <td>6333272.0</td>\n",
              "      <td>110.0</td>\n",
              "      <td>126078.0</td>\n",
              "      <td>55123</td>\n",
              "    </tr>\n",
              "    <tr>\n",
              "      <th>4</th>\n",
              "      <td>Ahmedabad</td>\n",
              "      <td>4</td>\n",
              "      <td>1</td>\n",
              "      <td>5570585.0</td>\n",
              "      <td>852.0</td>\n",
              "      <td>25.0</td>\n",
              "      <td>2</td>\n",
              "      <td>227.0</td>\n",
              "      <td>109.0</td>\n",
              "      <td>4746138.0</td>\n",
              "      <td>73.0</td>\n",
              "      <td>284973.0</td>\n",
              "      <td>33204</td>\n",
              "    </tr>\n",
              "  </tbody>\n",
              "</table>\n",
              "</div>"
            ],
            "text/plain": [
              "        City State Type  ...  # of hospitals  Foreign Visitors  Covid Cases\n",
              "0     Mumbai     0    0  ...           159.0         4408916.0       163115\n",
              "1      Delhi     1    0  ...           148.0         2379169.0        80188\n",
              "2  Bangalore     2    1  ...           123.0          636502.0       141000\n",
              "3  Hyderabad     3    1  ...           110.0          126078.0        55123\n",
              "4  Ahmedabad     4    1  ...            73.0          284973.0        33204\n",
              "\n",
              "[5 rows x 13 columns]"
            ]
          },
          "metadata": {
            "tags": []
          },
          "execution_count": 72
        }
      ]
    },
    {
      "cell_type": "code",
      "metadata": {
        "id": "kLkOAYZFIjd_",
        "colab_type": "code",
        "colab": {}
      },
      "source": [
        "df = df.drop(['City'], axis = 1)\n"
      ],
      "execution_count": null,
      "outputs": []
    },
    {
      "cell_type": "code",
      "metadata": {
        "id": "pmS7yuCXKg_c",
        "colab_type": "code",
        "colab": {
          "base_uri": "https://localhost:8080/",
          "height": 235
        },
        "outputId": "adfb10b2-55e4-45c9-dafa-4a16316dec7b"
      },
      "source": [
        "df.dropna(inplace = True)\n",
        "df.isnull().sum()"
      ],
      "execution_count": 89,
      "outputs": [
        {
          "output_type": "execute_result",
          "data": {
            "text/plain": [
              "State                0\n",
              "Type                 0\n",
              "Population [2011]    0\n",
              "Sex Ratio            0\n",
              "Avg Temp             0\n",
              "SWM                  0\n",
              "Toilets Avl          0\n",
              "Water Purity         0\n",
              "Female Population    0\n",
              "# of hospitals       0\n",
              "Foreign Visitors     0\n",
              "Covid Cases          0\n",
              "dtype: int64"
            ]
          },
          "metadata": {
            "tags": []
          },
          "execution_count": 89
        }
      ]
    },
    {
      "cell_type": "code",
      "metadata": {
        "id": "UcNNPRV9JHFu",
        "colab_type": "code",
        "colab": {
          "base_uri": "https://localhost:8080/",
          "height": 296
        },
        "outputId": "0c1ee21a-4d11-4312-f310-16fa7d52622e"
      },
      "source": [
        "#outliers\n",
        "df['Covid Cases'].describe()\n",
        "import seaborn as sns\n",
        "sns.boxplot(df['Covid Cases'])"
      ],
      "execution_count": 79,
      "outputs": [
        {
          "output_type": "execute_result",
          "data": {
            "text/plain": [
              "<matplotlib.axes._subplots.AxesSubplot at 0x7fc890e03470>"
            ]
          },
          "metadata": {
            "tags": []
          },
          "execution_count": 79
        },
        {
          "output_type": "display_data",
          "data": {
            "image/png": "[encoded data removed]",
            "text/plain": [
              "<Figure size 432x288 with 1 Axes>"
            ]
          },
          "metadata": {
            "tags": [],
            "needs_background": "light"
          }
        }
      ]
    },
    {
      "cell_type": "code",
      "metadata": {
        "id": "FPhyDnldJeCf",
        "colab_type": "code",
        "colab": {}
      },
      "source": [
        "Q1 = df['Covid Cases'].quantile(0.25)\n",
        "Q3 = df['Covid Cases'].quantile(0.75)\n",
        "IQR = Q3 - Q1\n",
        "outliers = df[((df['Covid Cases'] < (Q1 - 1.5 * IQR)) | (df['Covid Cases'] > (Q3 + 1.5 * IQR)))].index\n",
        "#removed rows having outliers of covid cases \n",
        "df.drop(outliers , inplace = True)"
      ],
      "execution_count": 81,
      "outputs": []
    },
    {
      "cell_type": "code",
      "metadata": {
        "id": "i1cZvS5KJpdT",
        "colab_type": "code",
        "colab": {
          "base_uri": "https://localhost:8080/",
          "height": 195
        },
        "outputId": "4e6dbe9a-a802-4e39-de45-6d9e13bc8193"
      },
      "source": [
        "df.head()"
      ],
      "execution_count": 82,
      "outputs": [
        {
          "output_type": "execute_result",
          "data": {
            "text/html": [
              "<div>\n",
              "<style scoped>\n",
              "    .dataframe tbody tr th:only-of-type {\n",
              "        vertical-align: middle;\n",
              "    }\n",
              "\n",
              "    .dataframe tbody tr th {\n",
              "        vertical-align: top;\n",
              "    }\n",
              "\n",
              "    .dataframe thead th {\n",
              "        text-align: right;\n",
              "    }\n",
              "</style>\n",
              "<table border=\"1\" class=\"dataframe\">\n",
              "  <thead>\n",
              "    <tr style=\"text-align: right;\">\n",
              "      <th></th>\n",
              "      <th>State</th>\n",
              "      <th>Type</th>\n",
              "      <th>Population [2011]</th>\n",
              "      <th>Sex Ratio</th>\n",
              "      <th>Avg Temp</th>\n",
              "      <th>SWM</th>\n",
              "      <th>Toilets Avl</th>\n",
              "      <th>Water Purity</th>\n",
              "      <th>Female Population</th>\n",
              "      <th># of hospitals</th>\n",
              "      <th>Foreign Visitors</th>\n",
              "      <th>Covid Cases</th>\n",
              "    </tr>\n",
              "  </thead>\n",
              "  <tbody>\n",
              "    <tr>\n",
              "      <th>10</th>\n",
              "      <td>8</td>\n",
              "      <td>1</td>\n",
              "      <td>3046163.0</td>\n",
              "      <td>871.0</td>\n",
              "      <td>32.0</td>\n",
              "      <td>1</td>\n",
              "      <td>128.0</td>\n",
              "      <td>172.0</td>\n",
              "      <td>2653208.0</td>\n",
              "      <td>61.0</td>\n",
              "      <td>1475311.0</td>\n",
              "      <td>14001</td>\n",
              "    </tr>\n",
              "    <tr>\n",
              "      <th>12</th>\n",
              "      <td>10</td>\n",
              "      <td>3</td>\n",
              "      <td>2800000.0</td>\n",
              "      <td>919.0</td>\n",
              "      <td>34.0</td>\n",
              "      <td>2</td>\n",
              "      <td>116.0</td>\n",
              "      <td>142.0</td>\n",
              "      <td>2573200.0</td>\n",
              "      <td>56.0</td>\n",
              "      <td>421365.0</td>\n",
              "      <td>15764</td>\n",
              "    </tr>\n",
              "    <tr>\n",
              "      <th>15</th>\n",
              "      <td>10</td>\n",
              "      <td>1</td>\n",
              "      <td>1964086.0</td>\n",
              "      <td>929.0</td>\n",
              "      <td>37.0</td>\n",
              "      <td>0</td>\n",
              "      <td>149.0</td>\n",
              "      <td>172.0</td>\n",
              "      <td>1824636.0</td>\n",
              "      <td>76.0</td>\n",
              "      <td>421365.0</td>\n",
              "      <td>15764</td>\n",
              "    </tr>\n",
              "    <tr>\n",
              "      <th>17</th>\n",
              "      <td>10</td>\n",
              "      <td>1</td>\n",
              "      <td>1798218.0</td>\n",
              "      <td>926.0</td>\n",
              "      <td>35.0</td>\n",
              "      <td>2</td>\n",
              "      <td>113.0</td>\n",
              "      <td>185.0</td>\n",
              "      <td>1665150.0</td>\n",
              "      <td>72.0</td>\n",
              "      <td>421365.0</td>\n",
              "      <td>12446</td>\n",
              "    </tr>\n",
              "    <tr>\n",
              "      <th>21</th>\n",
              "      <td>4</td>\n",
              "      <td>1</td>\n",
              "      <td>1670806.0</td>\n",
              "      <td>840.0</td>\n",
              "      <td>29.0</td>\n",
              "      <td>2</td>\n",
              "      <td>112.0</td>\n",
              "      <td>156.0</td>\n",
              "      <td>1403477.0</td>\n",
              "      <td>91.0</td>\n",
              "      <td>284973.0</td>\n",
              "      <td>9439</td>\n",
              "    </tr>\n",
              "  </tbody>\n",
              "</table>\n",
              "</div>"
            ],
            "text/plain": [
              "   State Type  Population [2011]  ...  # of hospitals  Foreign Visitors Covid Cases\n",
              "10     8    1          3046163.0  ...            61.0         1475311.0       14001\n",
              "12    10    3          2800000.0  ...            56.0          421365.0       15764\n",
              "15    10    1          1964086.0  ...            76.0          421365.0       15764\n",
              "17    10    1          1798218.0  ...            72.0          421365.0       12446\n",
              "21     4    1          1670806.0  ...            91.0          284973.0        9439\n",
              "\n",
              "[5 rows x 12 columns]"
            ]
          },
          "metadata": {
            "tags": []
          },
          "execution_count": 82
        }
      ]
    },
    {
      "cell_type": "code",
      "metadata": {
        "id": "qi3cJbysJu6z",
        "colab_type": "code",
        "colab": {
          "base_uri": "https://localhost:8080/",
          "height": 185
        },
        "outputId": "492ed23a-bafd-4a89-c686-95b19150e389"
      },
      "source": [
        "#separting x and y\n",
        "X = df.iloc[:, :-1].values\n",
        "y = df.iloc[:, -1:].values\n",
        "print(y[0:5])\n",
        "print(X[0:5])"
      ],
      "execution_count": 90,
      "outputs": [
        {
          "output_type": "stream",
          "text": [
            "[[14001]\n",
            " [15764]\n",
            " [15764]\n",
            " [12446]\n",
            " [ 9439]]\n",
            "[[8 1 3046163.0 871.0 32.0 1 128.0 172.0 2653208.0 61.0 1475311.0]\n",
            " [10 3 2800000.0 919.0 34.0 2 116.0 142.0 2573200.0 56.0 421365.0]\n",
            " [10 1 1964086.0 929.0 37.0 0 149.0 172.0 1824636.0 76.0 421365.0]\n",
            " [10 1 1798218.0 926.0 35.0 2 113.0 185.0 1665150.0 72.0 421365.0]\n",
            " [4 1 1670806.0 840.0 29.0 2 112.0 156.0 1403477.0 91.0 284973.0]]\n"
          ],
          "name": "stdout"
        }
      ]
    },
    {
      "cell_type": "code",
      "metadata": {
        "id": "8IKFhktQJ-vF",
        "colab_type": "code",
        "colab": {
          "base_uri": "https://localhost:8080/",
          "height": 195
        },
        "outputId": "5c7b8011-2bfc-45ad-ddb7-1c544c5720f4"
      },
      "source": [
        "#normalise train dataset\n",
        "mm_scaler = preprocessing.MinMaxScaler()\n",
        "Train_minmax = mm_scaler.fit_transform(X)\n",
        "X=pd.DataFrame(Train_minmax)\n",
        "X.head()"
      ],
      "execution_count": 91,
      "outputs": [
        {
          "output_type": "execute_result",
          "data": {
            "text/html": [
              "<div>\n",
              "<style scoped>\n",
              "    .dataframe tbody tr th:only-of-type {\n",
              "        vertical-align: middle;\n",
              "    }\n",
              "\n",
              "    .dataframe tbody tr th {\n",
              "        vertical-align: top;\n",
              "    }\n",
              "\n",
              "    .dataframe thead th {\n",
              "        text-align: right;\n",
              "    }\n",
              "</style>\n",
              "<table border=\"1\" class=\"dataframe\">\n",
              "  <thead>\n",
              "    <tr style=\"text-align: right;\">\n",
              "      <th></th>\n",
              "      <th>0</th>\n",
              "      <th>1</th>\n",
              "      <th>2</th>\n",
              "      <th>3</th>\n",
              "      <th>4</th>\n",
              "      <th>5</th>\n",
              "      <th>6</th>\n",
              "      <th>7</th>\n",
              "      <th>8</th>\n",
              "      <th>9</th>\n",
              "      <th>10</th>\n",
              "    </tr>\n",
              "  </thead>\n",
              "  <tbody>\n",
              "    <tr>\n",
              "      <th>0</th>\n",
              "      <td>0.2500</td>\n",
              "      <td>0.043478</td>\n",
              "      <td>1.000000</td>\n",
              "      <td>0.835891</td>\n",
              "      <td>0.771429</td>\n",
              "      <td>0.5</td>\n",
              "      <td>0.78</td>\n",
              "      <td>0.72</td>\n",
              "      <td>1.000000</td>\n",
              "      <td>0.566667</td>\n",
              "      <td>0.314804</td>\n",
              "    </tr>\n",
              "    <tr>\n",
              "      <th>1</th>\n",
              "      <td>0.3125</td>\n",
              "      <td>0.130435</td>\n",
              "      <td>0.918251</td>\n",
              "      <td>0.881957</td>\n",
              "      <td>0.828571</td>\n",
              "      <td>1.0</td>\n",
              "      <td>0.66</td>\n",
              "      <td>0.42</td>\n",
              "      <td>0.969489</td>\n",
              "      <td>0.511111</td>\n",
              "      <td>0.089790</td>\n",
              "    </tr>\n",
              "    <tr>\n",
              "      <th>2</th>\n",
              "      <td>0.3125</td>\n",
              "      <td>0.043478</td>\n",
              "      <td>0.640651</td>\n",
              "      <td>0.891554</td>\n",
              "      <td>0.914286</td>\n",
              "      <td>0.0</td>\n",
              "      <td>0.99</td>\n",
              "      <td>0.72</td>\n",
              "      <td>0.684028</td>\n",
              "      <td>0.733333</td>\n",
              "      <td>0.089790</td>\n",
              "    </tr>\n",
              "    <tr>\n",
              "      <th>3</th>\n",
              "      <td>0.3125</td>\n",
              "      <td>0.043478</td>\n",
              "      <td>0.585568</td>\n",
              "      <td>0.888675</td>\n",
              "      <td>0.857143</td>\n",
              "      <td>1.0</td>\n",
              "      <td>0.63</td>\n",
              "      <td>0.85</td>\n",
              "      <td>0.623209</td>\n",
              "      <td>0.688889</td>\n",
              "      <td>0.089790</td>\n",
              "    </tr>\n",
              "    <tr>\n",
              "      <th>4</th>\n",
              "      <td>0.1250</td>\n",
              "      <td>0.043478</td>\n",
              "      <td>0.543255</td>\n",
              "      <td>0.806141</td>\n",
              "      <td>0.685714</td>\n",
              "      <td>1.0</td>\n",
              "      <td>0.62</td>\n",
              "      <td>0.56</td>\n",
              "      <td>0.523421</td>\n",
              "      <td>0.900000</td>\n",
              "      <td>0.060670</td>\n",
              "    </tr>\n",
              "  </tbody>\n",
              "</table>\n",
              "</div>"
            ],
            "text/plain": [
              "       0         1         2         3   ...    7         8         9         10\n",
              "0  0.2500  0.043478  1.000000  0.835891  ...  0.72  1.000000  0.566667  0.314804\n",
              "1  0.3125  0.130435  0.918251  0.881957  ...  0.42  0.969489  0.511111  0.089790\n",
              "2  0.3125  0.043478  0.640651  0.891554  ...  0.72  0.684028  0.733333  0.089790\n",
              "3  0.3125  0.043478  0.585568  0.888675  ...  0.85  0.623209  0.688889  0.089790\n",
              "4  0.1250  0.043478  0.543255  0.806141  ...  0.56  0.523421  0.900000  0.060670\n",
              "\n",
              "[5 rows x 11 columns]"
            ]
          },
          "metadata": {
            "tags": []
          },
          "execution_count": 91
        }
      ]
    },
    {
      "cell_type": "code",
      "metadata": {
        "id": "N-KZx8p1KHcu",
        "colab_type": "code",
        "colab": {
          "base_uri": "https://localhost:8080/",
          "height": 84
        },
        "outputId": "f13b4acd-9698-4c31-827b-ddbaf57756aa"
      },
      "source": [
        "#splitting into train and test\n",
        "X_train, X_test, y_train, y_test = train_test_split(X, y, test_size=0.2, random_state=1)\n",
        "print(X_train.shape)\n",
        "print(y_train.shape)\n",
        "print(X_test.shape)\n",
        "print(y_test.shape)"
      ],
      "execution_count": 92,
      "outputs": [
        {
          "output_type": "stream",
          "text": [
            "(596, 11)\n",
            "(596, 1)\n",
            "(150, 11)\n",
            "(150, 1)\n"
          ],
          "name": "stdout"
        }
      ]
    },
    {
      "cell_type": "markdown",
      "metadata": {
        "id": "5qD1k1lKKyqb",
        "colab_type": "text"
      },
      "source": [
        "# Best model - XGBoost - Training"
      ]
    },
    {
      "cell_type": "code",
      "metadata": {
        "id": "Bx8C3v9rK2px",
        "colab_type": "code",
        "colab": {}
      },
      "source": [
        "def rmsle(y, y_pred):\n",
        "    return np.sqrt(mean_squared_error(y, y_pred))"
      ],
      "execution_count": 93,
      "outputs": []
    },
    {
      "cell_type": "code",
      "metadata": {
        "id": "a9Y1wYecLAaf",
        "colab_type": "code",
        "colab": {}
      },
      "source": [
        "model_xgb = xgb.XGBRegressor(colsample_bytree=0.4603, gamma=0.0468, \n",
        "                             learning_rate=0.05, max_depth=10, \n",
        "                             min_child_weight=1.7817, n_estimators=2200,\n",
        "                             reg_alpha=0.4640, reg_lambda=0.8571,\n",
        "                             subsample=1,silent=1,\n",
        "                             random_state =25, nthread = -1 , booster = 'gbtree')"
      ],
      "execution_count": 105,
      "outputs": []
    },
    {
      "cell_type": "code",
      "metadata": {
        "id": "FSyfsWGiLEle",
        "colab_type": "code",
        "colab": {
          "base_uri": "https://localhost:8080/",
          "height": 101
        },
        "outputId": "ca8c27fc-cf23-485f-91eb-cc4fc0225c68"
      },
      "source": [
        "n_folds = 5\n",
        "def rmsle_cv(model):\n",
        "    kf = KFold(n_folds, shuffle=True, random_state=42).get_n_splits(X_train)\n",
        "    rmse= np.sqrt(-cross_val_score(model, X_train, y_train, scoring=\"neg_mean_squared_error\", cv = kf))\n",
        "    return(rmse)\n",
        "\n",
        "score = rmsle_cv(model_xgb)\n",
        "model_xgb.fit(X_train, y_train)\n",
        "y_hat = model_xgb.predict(X_test)\n",
        "\n",
        "print(\"Xgboost score for kfold: {:.4f} ({:.4f})\\n\".format(score.mean(), score.std()))\n",
        "print(\"rmse \",rmsle(y_test, y_hat))\n",
        "print(\"Mean absolute error: %.2f\" % np.mean(np.absolute(y_hat - y_test)))\n",
        "print(\"R2-score: %.2f\" % r2_score(y_hat , y_test) )"
      ],
      "execution_count": 108,
      "outputs": [
        {
          "output_type": "stream",
          "text": [
            "Xgboost score for kfold: 1896.4720 (148.2320)\n",
            "\n",
            "rmse  1491.8522355978814\n",
            "Mean absolute error: 3378.22\n",
            "R2-score: 0.77\n"
          ],
          "name": "stdout"
        }
      ]
    },
    {
      "cell_type": "code",
      "metadata": {
        "id": "D0soHvcfLg3E",
        "colab_type": "code",
        "colab": {
          "base_uri": "https://localhost:8080/",
          "height": 34
        },
        "outputId": "3f9efa3a-0377-4a6b-950e-58ff882ff50c"
      },
      "source": [
        "#tells how good rmse is :\n",
        "print(\"SI INDEX : \",rmsle(y_test, y_hat) / y.mean())"
      ],
      "execution_count": 109,
      "outputs": [
        {
          "output_type": "stream",
          "text": [
            "SI INDEX :  0.3272515838137633\n"
          ],
          "name": "stdout"
        }
      ]
    },
    {
      "cell_type": "code",
      "metadata": {
        "id": "C1tkKLq3L9ui",
        "colab_type": "code",
        "colab": {
          "base_uri": "https://localhost:8080/",
          "height": 486
        },
        "outputId": "48082dc7-2412-45b0-ce40-c3310ff39955"
      },
      "source": [
        "y_t = []\n",
        "for i in y_test:\n",
        "  y_t.append(i[0])\n",
        "y_p = []\n",
        "# for i in y_hat:\n",
        "#   y_p.append(i[0])\n",
        "\n",
        "df = pd.DataFrame({'Actual': y_t, 'Predicted': y_hat})\n",
        "df1 = df.head(50)\n",
        "df1.plot(kind='bar',figsize=(10,8))\n",
        "plt.grid(which='major', linestyle='-', linewidth='0.5', color='green')\n",
        "plt.grid(which='minor', linestyle=':', linewidth='0.5', color='black')\n",
        "plt.savefig(\"xgboost.jpeg\")\n",
        "plt.show()"
      ],
      "execution_count": 110,
      "outputs": [
        {
          "output_type": "display_data",
          "data": {
            "image/png": "[encoded data removed]",
            "text/plain": [
              "<Figure size 720x576 with 1 Axes>"
            ]
          },
          "metadata": {
            "tags": [],
            "needs_background": "light"
          }
        }
      ]
    },
    {
      "cell_type": "markdown",
      "metadata": {
        "id": "aU5rIKrfORTd",
        "colab_type": "text"
      },
      "source": [
        "# Test Dataset - final results"
      ]
    },
    {
      "cell_type": "code",
      "metadata": {
        "id": "GKV5piMyOPsN",
        "colab_type": "code",
        "colab": {
          "resources": {
            "http://localhost:8080/nbextensions/google.colab/files.js": {
              "data": "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",
              "ok": true,
              "headers": [
                [
                  "content-type",
                  "application/javascript"
                ]
              ],
              "status": 200,
              "status_text": ""
            }
          },
          "base_uri": "https://localhost:8080/",
          "height": 73
        },
        "outputId": "908bd0db-1020-48ab-d5ed-5da09896d6aa"
      },
      "source": [
        "#upload test dataset\n",
        "uploaded = files.upload()"
      ],
      "execution_count": 112,
      "outputs": [
        {
          "output_type": "display_data",
          "data": {
            "text/html": [
              "\n",
              "     <input type=\"file\" id=\"files-e3f2ffaf-f730-4314-a4d7-393b0bf8eb27\" name=\"files[]\" multiple disabled\n",
              "        style=\"border:none\" />\n",
              "     <output id=\"result-e3f2ffaf-f730-4314-a4d7-393b0bf8eb27\">\n",
              "      Upload widget is only available when the cell has been executed in the\n",
              "      current browser session. Please rerun this cell to enable.\n",
              "      </output>\n",
              "      <script src=\"/nbextensions/google.colab/files.js\"></script> "
            ],
            "text/plain": [
              "<IPython.core.display.HTML object>"
            ]
          },
          "metadata": {
            "tags": []
          }
        },
        {
          "output_type": "stream",
          "text": [
            "Saving Test_dataset.xlsx to Test_dataset.xlsx\n"
          ],
          "name": "stdout"
        }
      ]
    },
    {
      "cell_type": "code",
      "metadata": {
        "id": "cI7Q5rMBO9TY",
        "colab_type": "code",
        "colab": {
          "base_uri": "https://localhost:8080/",
          "height": 229
        },
        "outputId": "38c2e62e-d463-4463-eb2e-8fb4bc8a378f"
      },
      "source": [
        "test = pd.read_excel(\"Test_dataset.xlsx\", sheet_name=0)\n",
        "test.head()"
      ],
      "execution_count": 114,
      "outputs": [
        {
          "output_type": "execute_result",
          "data": {
            "text/html": [
              "<div>\n",
              "<style scoped>\n",
              "    .dataframe tbody tr th:only-of-type {\n",
              "        vertical-align: middle;\n",
              "    }\n",
              "\n",
              "    .dataframe tbody tr th {\n",
              "        vertical-align: top;\n",
              "    }\n",
              "\n",
              "    .dataframe thead th {\n",
              "        text-align: right;\n",
              "    }\n",
              "</style>\n",
              "<table border=\"1\" class=\"dataframe\">\n",
              "  <thead>\n",
              "    <tr style=\"text-align: right;\">\n",
              "      <th></th>\n",
              "      <th>City</th>\n",
              "      <th>State</th>\n",
              "      <th>Type</th>\n",
              "      <th>Population [2011]</th>\n",
              "      <th>Popuation [2001]</th>\n",
              "      <th>Sex Ratio</th>\n",
              "      <th>Median Age</th>\n",
              "      <th>Avg Temp</th>\n",
              "      <th>SWM</th>\n",
              "      <th>Toilets Avl</th>\n",
              "      <th>Water Purity</th>\n",
              "      <th>H Index</th>\n",
              "      <th>Female Population</th>\n",
              "      <th># of hospitals</th>\n",
              "      <th>Foreign Visitors</th>\n",
              "    </tr>\n",
              "  </thead>\n",
              "  <tbody>\n",
              "    <tr>\n",
              "      <th>0</th>\n",
              "      <td>Tuensang</td>\n",
              "      <td>Nagaland</td>\n",
              "      <td>T.C</td>\n",
              "      <td>36774.0</td>\n",
              "      <td>NaN</td>\n",
              "      <td>931.0</td>\n",
              "      <td>23.0</td>\n",
              "      <td>10.0</td>\n",
              "      <td>MEDIUM</td>\n",
              "      <td>94.0</td>\n",
              "      <td>114.0</td>\n",
              "      <td>0.253390</td>\n",
              "      <td>34237.0</td>\n",
              "      <td>17.0</td>\n",
              "      <td>2769.0</td>\n",
              "    </tr>\n",
              "    <tr>\n",
              "      <th>1</th>\n",
              "      <td>Lakshmeshwar</td>\n",
              "      <td>Karnataka</td>\n",
              "      <td>T.M.C</td>\n",
              "      <td>36754.0</td>\n",
              "      <td>NaN</td>\n",
              "      <td>934.0</td>\n",
              "      <td>25.0</td>\n",
              "      <td>38.0</td>\n",
              "      <td>HIGH</td>\n",
              "      <td>62.0</td>\n",
              "      <td>160.0</td>\n",
              "      <td>0.192555</td>\n",
              "      <td>34328.0</td>\n",
              "      <td>13.0</td>\n",
              "      <td>636502.0</td>\n",
              "    </tr>\n",
              "    <tr>\n",
              "      <th>2</th>\n",
              "      <td>Zira</td>\n",
              "      <td>Punjab</td>\n",
              "      <td>M.Cl.</td>\n",
              "      <td>36732.0</td>\n",
              "      <td>NaN</td>\n",
              "      <td>883.0</td>\n",
              "      <td>29.0</td>\n",
              "      <td>35.0</td>\n",
              "      <td>HIGH</td>\n",
              "      <td>63.0</td>\n",
              "      <td>105.0</td>\n",
              "      <td>0.887882</td>\n",
              "      <td>32434.0</td>\n",
              "      <td>17.0</td>\n",
              "      <td>242367.0</td>\n",
              "    </tr>\n",
              "    <tr>\n",
              "      <th>3</th>\n",
              "      <td>Yawal</td>\n",
              "      <td>Maharashtra</td>\n",
              "      <td>M.Cl</td>\n",
              "      <td>36706.0</td>\n",
              "      <td>NaN</td>\n",
              "      <td>887.0</td>\n",
              "      <td>26.0</td>\n",
              "      <td>31.0</td>\n",
              "      <td>HIGH</td>\n",
              "      <td>60.0</td>\n",
              "      <td>174.0</td>\n",
              "      <td>0.407838</td>\n",
              "      <td>32558.0</td>\n",
              "      <td>11.0</td>\n",
              "      <td>4408916.0</td>\n",
              "    </tr>\n",
              "    <tr>\n",
              "      <th>4</th>\n",
              "      <td>Thana Bhawan</td>\n",
              "      <td>Uttar Pradesh</td>\n",
              "      <td>N.P.</td>\n",
              "      <td>36669.0</td>\n",
              "      <td>NaN</td>\n",
              "      <td>877.0</td>\n",
              "      <td>28.0</td>\n",
              "      <td>39.0</td>\n",
              "      <td>LOW</td>\n",
              "      <td>92.0</td>\n",
              "      <td>153.0</td>\n",
              "      <td>0.324456</td>\n",
              "      <td>32159.0</td>\n",
              "      <td>23.0</td>\n",
              "      <td>3104060.0</td>\n",
              "    </tr>\n",
              "  </tbody>\n",
              "</table>\n",
              "</div>"
            ],
            "text/plain": [
              "           City          State  ... # of hospitals  Foreign Visitors\n",
              "0      Tuensang       Nagaland  ...           17.0            2769.0\n",
              "1  Lakshmeshwar      Karnataka  ...           13.0          636502.0\n",
              "2          Zira         Punjab  ...           17.0          242367.0\n",
              "3         Yawal    Maharashtra  ...           11.0         4408916.0\n",
              "4  Thana Bhawan  Uttar Pradesh  ...           23.0         3104060.0\n",
              "\n",
              "[5 rows x 15 columns]"
            ]
          },
          "metadata": {
            "tags": []
          },
          "execution_count": 114
        }
      ]
    },
    {
      "cell_type": "code",
      "metadata": {
        "id": "aPgy2SN_PLT-",
        "colab_type": "code",
        "colab": {
          "base_uri": "https://localhost:8080/",
          "height": 195
        },
        "outputId": "ba6e573e-2943-4c2f-af55-fa3126d32d54"
      },
      "source": [
        "#dropping not required columns\n",
        "test = test.drop(['H Index','Popuation [2001]','Median Age'], axis = 1)\n",
        "test.head()"
      ],
      "execution_count": 115,
      "outputs": [
        {
          "output_type": "execute_result",
          "data": {
            "text/html": [
              "<div>\n",
              "<style scoped>\n",
              "    .dataframe tbody tr th:only-of-type {\n",
              "        vertical-align: middle;\n",
              "    }\n",
              "\n",
              "    .dataframe tbody tr th {\n",
              "        vertical-align: top;\n",
              "    }\n",
              "\n",
              "    .dataframe thead th {\n",
              "        text-align: right;\n",
              "    }\n",
              "</style>\n",
              "<table border=\"1\" class=\"dataframe\">\n",
              "  <thead>\n",
              "    <tr style=\"text-align: right;\">\n",
              "      <th></th>\n",
              "      <th>City</th>\n",
              "      <th>State</th>\n",
              "      <th>Type</th>\n",
              "      <th>Population [2011]</th>\n",
              "      <th>Sex Ratio</th>\n",
              "      <th>Avg Temp</th>\n",
              "      <th>SWM</th>\n",
              "      <th>Toilets Avl</th>\n",
              "      <th>Water Purity</th>\n",
              "      <th>Female Population</th>\n",
              "      <th># of hospitals</th>\n",
              "      <th>Foreign Visitors</th>\n",
              "    </tr>\n",
              "  </thead>\n",
              "  <tbody>\n",
              "    <tr>\n",
              "      <th>0</th>\n",
              "      <td>Tuensang</td>\n",
              "      <td>Nagaland</td>\n",
              "      <td>T.C</td>\n",
              "      <td>36774.0</td>\n",
              "      <td>931.0</td>\n",
              "      <td>10.0</td>\n",
              "      <td>MEDIUM</td>\n",
              "      <td>94.0</td>\n",
              "      <td>114.0</td>\n",
              "      <td>34237.0</td>\n",
              "      <td>17.0</td>\n",
              "      <td>2769.0</td>\n",
              "    </tr>\n",
              "    <tr>\n",
              "      <th>1</th>\n",
              "      <td>Lakshmeshwar</td>\n",
              "      <td>Karnataka</td>\n",
              "      <td>T.M.C</td>\n",
              "      <td>36754.0</td>\n",
              "      <td>934.0</td>\n",
              "      <td>38.0</td>\n",
              "      <td>HIGH</td>\n",
              "      <td>62.0</td>\n",
              "      <td>160.0</td>\n",
              "      <td>34328.0</td>\n",
              "      <td>13.0</td>\n",
              "      <td>636502.0</td>\n",
              "    </tr>\n",
              "    <tr>\n",
              "      <th>2</th>\n",
              "      <td>Zira</td>\n",
              "      <td>Punjab</td>\n",
              "      <td>M.Cl.</td>\n",
              "      <td>36732.0</td>\n",
              "      <td>883.0</td>\n",
              "      <td>35.0</td>\n",
              "      <td>HIGH</td>\n",
              "      <td>63.0</td>\n",
              "      <td>105.0</td>\n",
              "      <td>32434.0</td>\n",
              "      <td>17.0</td>\n",
              "      <td>242367.0</td>\n",
              "    </tr>\n",
              "    <tr>\n",
              "      <th>3</th>\n",
              "      <td>Yawal</td>\n",
              "      <td>Maharashtra</td>\n",
              "      <td>M.Cl</td>\n",
              "      <td>36706.0</td>\n",
              "      <td>887.0</td>\n",
              "      <td>31.0</td>\n",
              "      <td>HIGH</td>\n",
              "      <td>60.0</td>\n",
              "      <td>174.0</td>\n",
              "      <td>32558.0</td>\n",
              "      <td>11.0</td>\n",
              "      <td>4408916.0</td>\n",
              "    </tr>\n",
              "    <tr>\n",
              "      <th>4</th>\n",
              "      <td>Thana Bhawan</td>\n",
              "      <td>Uttar Pradesh</td>\n",
              "      <td>N.P.</td>\n",
              "      <td>36669.0</td>\n",
              "      <td>877.0</td>\n",
              "      <td>39.0</td>\n",
              "      <td>LOW</td>\n",
              "      <td>92.0</td>\n",
              "      <td>153.0</td>\n",
              "      <td>32159.0</td>\n",
              "      <td>23.0</td>\n",
              "      <td>3104060.0</td>\n",
              "    </tr>\n",
              "  </tbody>\n",
              "</table>\n",
              "</div>"
            ],
            "text/plain": [
              "           City          State  ... # of hospitals  Foreign Visitors\n",
              "0      Tuensang       Nagaland  ...           17.0            2769.0\n",
              "1  Lakshmeshwar      Karnataka  ...           13.0          636502.0\n",
              "2          Zira         Punjab  ...           17.0          242367.0\n",
              "3         Yawal    Maharashtra  ...           11.0         4408916.0\n",
              "4  Thana Bhawan  Uttar Pradesh  ...           23.0         3104060.0\n",
              "\n",
              "[5 rows x 12 columns]"
            ]
          },
          "metadata": {
            "tags": []
          },
          "execution_count": 115
        }
      ]
    },
    {
      "cell_type": "code",
      "metadata": {
        "id": "zOb-g17XPfcp",
        "colab_type": "code",
        "colab": {
          "base_uri": "https://localhost:8080/",
          "height": 118
        },
        "outputId": "bca6cdb3-5d71-4302-cba2-143a78ee16af"
      },
      "source": [
        "#handling data errors\n",
        "print(test['Type'].unique())\n",
        "test['Type'] = test['Type'].str.replace('.','')\n",
        "print(test['Type'].unique())"
      ],
      "execution_count": 117,
      "outputs": [
        {
          "output_type": "stream",
          "text": [
            "['T.C' 'T.M.C' 'M.Cl.' 'M.Cl' 'N.P.' 'UA' 'M' 'N.T' 'T.M.C.' 'N.P' 'C.T'\n",
            " 'M.B' 'T.C.' 'I.N.A' 'N.P.P' 'N.A' 'N.A.C' 'M.C' 'M.B.' 'M.C.' 'TP'\n",
            " 'N.P.P.' 'T.P' 'NAC' 'T.P.' 'G.P' 'C.T.' 'NP' 'M&F' nan 'CT' 'G.P.'\n",
            " 'N.A.C.']\n",
            "['TC' 'TMC' 'MCl' 'NP' 'UA' 'M' 'NT' 'CT' 'MB' 'INA' 'NPP' 'NA' 'NAC' 'MC'\n",
            " 'TP' 'GP' 'M&F' nan]\n"
          ],
          "name": "stdout"
        }
      ]
    },
    {
      "cell_type": "code",
      "metadata": {
        "id": "n73yvGkhPrUz",
        "colab_type": "code",
        "colab": {
          "base_uri": "https://localhost:8080/",
          "height": 235
        },
        "outputId": "01377cf7-0849-46d2-b45d-830a435f56d7"
      },
      "source": [
        "test.isnull().sum()"
      ],
      "execution_count": 118,
      "outputs": [
        {
          "output_type": "execute_result",
          "data": {
            "text/plain": [
              "City                  0\n",
              "State                 0\n",
              "Type                  2\n",
              "Population [2011]     6\n",
              "Sex Ratio             5\n",
              "Avg Temp             14\n",
              "SWM                   9\n",
              "Toilets Avl          22\n",
              "Water Purity         19\n",
              "Female Population    15\n",
              "# of hospitals       17\n",
              "Foreign Visitors     17\n",
              "dtype: int64"
            ]
          },
          "metadata": {
            "tags": []
          },
          "execution_count": 118
        }
      ]
    },
    {
      "cell_type": "markdown",
      "metadata": {
        "id": "DNusQaSJQrhL",
        "colab_type": "text"
      },
      "source": [
        "# Handling missing values in test dataset"
      ]
    },
    {
      "cell_type": "code",
      "metadata": {
        "id": "jlRIWbfaP5sK",
        "colab_type": "code",
        "colab": {}
      },
      "source": [
        "test['Water Purity']=test['Water Purity'].fillna((test['Water Purity'].mean()))  "
      ],
      "execution_count": 120,
      "outputs": []
    },
    {
      "cell_type": "code",
      "metadata": {
        "id": "upxhNS2tQNLU",
        "colab_type": "code",
        "colab": {
          "base_uri": "https://localhost:8080/",
          "height": 235
        },
        "outputId": "98890662-b7af-42c8-e32e-bea7bb44cdd3"
      },
      "source": [
        "test.isnull().sum()"
      ],
      "execution_count": 143,
      "outputs": [
        {
          "output_type": "execute_result",
          "data": {
            "text/plain": [
              "City                  0\n",
              "State                 0\n",
              "Type                  2\n",
              "Population [2011]     6\n",
              "Sex Ratio             5\n",
              "Avg Temp              1\n",
              "SWM                   9\n",
              "Toilets Avl           1\n",
              "Water Purity          0\n",
              "Female Population    15\n",
              "# of hospitals       17\n",
              "Foreign Visitors      0\n",
              "dtype: int64"
            ]
          },
          "metadata": {
            "tags": []
          },
          "execution_count": 143
        }
      ]
    },
    {
      "cell_type": "code",
      "metadata": {
        "id": "4y_GwfGCQT5a",
        "colab_type": "code",
        "colab": {}
      },
      "source": [
        "grouped = test.groupby('State')\n",
        "j = 0\n",
        "i=0\n",
        "means={}\n",
        "for col,group in grouped:\n",
        "    means[col] = group['Foreign Visitors'].mean()                        \n",
        "    #print(col)\n",
        "for i in range(len(test.values)):\n",
        "  if(math.isnan(test['Foreign Visitors'][i])):\n",
        "    \n",
        "    j+=1\n",
        "    test['Foreign Visitors'][i] = means[test['State'][i]]\n"
      ],
      "execution_count": 122,
      "outputs": []
    },
    {
      "cell_type": "code",
      "metadata": {
        "id": "04578d-UQkf-",
        "colab_type": "code",
        "colab": {
          "base_uri": "https://localhost:8080/",
          "height": 306
        },
        "outputId": "a379fc17-e0f4-4317-f440-d75e9a76e387"
      },
      "source": [
        "#Handling Missing values for Toilets by city type \n",
        "df3 = test\n",
        "grouped = df3.groupby('Type')\n",
        "j = 0\n",
        "i=0\n",
        "means={}\n",
        "for col,group in grouped:\n",
        "    a = col.replace('.','')\n",
        "    means[a] = group['Toilets Avl'].mean()\n",
        "print(means)\n",
        "for i in range(len(df3.values)):\n",
        "  if(math.isnan(df3['Toilets Avl'][i]) and not (df3['Type'][i]!=df3['Type'][i])):\n",
        "    a = df3['Type'][i].replace('.','')\n",
        "    j+=1\n",
        "    df3['Toilets Avl'][i] = means[a]\n",
        "\n",
        "\n",
        "print(df3['Type'].unique())\n",
        "df3.isnull().sum()"
      ],
      "execution_count": 138,
      "outputs": [
        {
          "output_type": "stream",
          "text": [
            "{'CT': 66.22222222222221, 'GP': 41.25, 'INA': 84.0, 'M': 78.05982905982904, 'M&F': 79.0, 'MB': 70.52941176470588, 'MC': 81.1, 'MCl': 74.86153846153847, 'NA': 80.44444444444444, 'NAC': 65.6, 'NP': 63.476190476190496, 'NPP': 64.21739130434783, 'NT': 99.5, 'TC': 81.8, 'TMC': 72.66666666666667, 'TP': 74.89130434782608, 'UA': 80.25}\n",
            "['TC' 'TMC' 'MCl' 'NP' 'UA' 'M' 'NT' 'CT' 'MB' 'INA' 'NPP' 'NA' 'NAC' 'MC'\n",
            " 'TP' 'GP' 'M&F' nan]\n"
          ],
          "name": "stdout"
        },
        {
          "output_type": "execute_result",
          "data": {
            "text/plain": [
              "City                  0\n",
              "State                 0\n",
              "Type                  2\n",
              "Population [2011]     6\n",
              "Sex Ratio             5\n",
              "Avg Temp              1\n",
              "SWM                   9\n",
              "Toilets Avl           1\n",
              "Water Purity          0\n",
              "Female Population    15\n",
              "# of hospitals       17\n",
              "Foreign Visitors      0\n",
              "dtype: int64"
            ]
          },
          "metadata": {
            "tags": []
          },
          "execution_count": 138
        }
      ]
    },
    {
      "cell_type": "code",
      "metadata": {
        "id": "3bqWYap3Q9J_",
        "colab_type": "code",
        "colab": {
          "base_uri": "https://localhost:8080/",
          "height": 50
        },
        "outputId": "77bd76e8-b304-40bb-f264-5f37f72c2b72"
      },
      "source": [
        "grouped = df3.groupby('State')\n",
        "j = 0\n",
        "i=0\n",
        "means={}\n",
        "for col,group in grouped:\n",
        "    means[col] = group['Avg Temp'].mean()                           #imputer Temp\n",
        "    \n",
        "for i in range(len(df3.values)):\n",
        "  if(math.isnan(df3['Avg Temp'][i])):\n",
        "    \n",
        "    j+=1\n",
        "    df3['Avg Temp'][i] = means[df3['State'][i]]\n",
        "print(df3['Type'].unique())"
      ],
      "execution_count": 139,
      "outputs": [
        {
          "output_type": "stream",
          "text": [
            "['TC' 'TMC' 'MCl' 'NP' 'UA' 'M' 'NT' 'CT' 'MB' 'INA' 'NPP' 'NA' 'NAC' 'MC'\n",
            " 'TP' 'GP' 'M&F' nan]\n"
          ],
          "name": "stdout"
        }
      ]
    },
    {
      "cell_type": "code",
      "metadata": {
        "id": "xaWDwrjVRSv5",
        "colab_type": "code",
        "colab": {
          "base_uri": "https://localhost:8080/",
          "height": 77
        },
        "outputId": "4d2f7ea0-38c6-489f-cf21-f60ba0023872"
      },
      "source": [
        "test[test['Avg Temp'].isnull()]"
      ],
      "execution_count": 140,
      "outputs": [
        {
          "output_type": "execute_result",
          "data": {
            "text/html": [
              "<div>\n",
              "<style scoped>\n",
              "    .dataframe tbody tr th:only-of-type {\n",
              "        vertical-align: middle;\n",
              "    }\n",
              "\n",
              "    .dataframe tbody tr th {\n",
              "        vertical-align: top;\n",
              "    }\n",
              "\n",
              "    .dataframe thead th {\n",
              "        text-align: right;\n",
              "    }\n",
              "</style>\n",
              "<table border=\"1\" class=\"dataframe\">\n",
              "  <thead>\n",
              "    <tr style=\"text-align: right;\">\n",
              "      <th></th>\n",
              "      <th>City</th>\n",
              "      <th>State</th>\n",
              "      <th>Type</th>\n",
              "      <th>Population [2011]</th>\n",
              "      <th>Sex Ratio</th>\n",
              "      <th>Avg Temp</th>\n",
              "      <th>SWM</th>\n",
              "      <th>Toilets Avl</th>\n",
              "      <th>Water Purity</th>\n",
              "      <th>Female Population</th>\n",
              "      <th># of hospitals</th>\n",
              "      <th>Foreign Visitors</th>\n",
              "    </tr>\n",
              "  </thead>\n",
              "  <tbody>\n",
              "    <tr>\n",
              "      <th>359</th>\n",
              "      <td>Silvassa</td>\n",
              "      <td>Dadra and Nagar Haveli</td>\n",
              "      <td>CT</td>\n",
              "      <td>21893.0</td>\n",
              "      <td>774.0</td>\n",
              "      <td>NaN</td>\n",
              "      <td>MEDIUM</td>\n",
              "      <td>98.0</td>\n",
              "      <td>135.0</td>\n",
              "      <td>16945.0</td>\n",
              "      <td>22.0</td>\n",
              "      <td>1797.0</td>\n",
              "    </tr>\n",
              "  </tbody>\n",
              "</table>\n",
              "</div>"
            ],
            "text/plain": [
              "         City                   State  ... # of hospitals  Foreign Visitors\n",
              "359  Silvassa  Dadra and Nagar Haveli  ...           22.0            1797.0\n",
              "\n",
              "[1 rows x 12 columns]"
            ]
          },
          "metadata": {
            "tags": []
          },
          "execution_count": 140
        }
      ]
    },
    {
      "cell_type": "code",
      "metadata": {
        "id": "crrBju2eR0Et",
        "colab_type": "code",
        "colab": {
          "base_uri": "https://localhost:8080/",
          "height": 235
        },
        "outputId": "c6171235-ba0f-470d-e569-e06cff6c52ea"
      },
      "source": [
        "grouped = df3.groupby('Type')\n",
        "j = 0\n",
        "i=0\n",
        "means1={}\n",
        "for col,group in grouped:\n",
        "    a = col.replace('.','')\n",
        "    means1[a] = group['# of hospitals'].mean()                           #imputer hospitals\n",
        "    \n",
        "for i in range(len(df3.values)and not (df3['Type'][i]!=df3['Type'][i])):\n",
        "  if(math.isnan(df3['# of hospitals'][i])):\n",
        "    a = df3['Type'][i].replace('.','')\n",
        "    j+=1\n",
        "    df3['# of hospitals'][i] = means1[a]\n",
        "df3.isnull().sum()"
      ],
      "execution_count": 146,
      "outputs": [
        {
          "output_type": "execute_result",
          "data": {
            "text/plain": [
              "City                  0\n",
              "State                 0\n",
              "Type                  2\n",
              "Population [2011]     6\n",
              "Sex Ratio             5\n",
              "Avg Temp              1\n",
              "SWM                   9\n",
              "Toilets Avl           1\n",
              "Water Purity          0\n",
              "Female Population    15\n",
              "# of hospitals       17\n",
              "Foreign Visitors      0\n",
              "dtype: int64"
            ]
          },
          "metadata": {
            "tags": []
          },
          "execution_count": 146
        }
      ]
    },
    {
      "cell_type": "code",
      "metadata": {
        "id": "2jv0Jr8GSb7M",
        "colab_type": "code",
        "colab": {
          "base_uri": "https://localhost:8080/",
          "height": 319
        },
        "outputId": "db3711f3-ea72-423f-bfcf-17ddb2263d6e"
      },
      "source": [
        "df3['Sex Ratio']=df3['Sex Ratio'].fillna((df3['Sex Ratio'].mean())) \n",
        "x = [\"Sex Ratio\",\"Avg Temp\",\"Toilets Avl\",\"# of hospitals\",'Population [2011]']\n",
        "for i in x:\n",
        "  print(i)\n",
        "  df3[i]=df3[i].fillna((df3[i].mean())) \n",
        "df3.isnull().sum()"
      ],
      "execution_count": 157,
      "outputs": [
        {
          "output_type": "stream",
          "text": [
            "Sex Ratio\n",
            "Avg Temp\n",
            "Toilets Avl\n",
            "# of hospitals\n",
            "Population [2011]\n"
          ],
          "name": "stdout"
        },
        {
          "output_type": "execute_result",
          "data": {
            "text/plain": [
              "City                 0\n",
              "State                0\n",
              "Type                 2\n",
              "Population [2011]    0\n",
              "Sex Ratio            0\n",
              "Avg Temp             0\n",
              "SWM                  9\n",
              "Toilets Avl          0\n",
              "Water Purity         0\n",
              "Female Population    0\n",
              "# of hospitals       0\n",
              "Foreign Visitors     0\n",
              "dtype: int64"
            ]
          },
          "metadata": {
            "tags": []
          },
          "execution_count": 157
        }
      ]
    },
    {
      "cell_type": "code",
      "metadata": {
        "id": "9YsNXkTSY2sE",
        "colab_type": "code",
        "colab": {
          "base_uri": "https://localhost:8080/",
          "height": 50
        },
        "outputId": "47a4ad91-c8e5-4e21-f106-754be73dd789"
      },
      "source": [
        "df = df3\n",
        "for i in range(len(df.values)):\n",
        "  if(math.isnan(df['Population [2011]'][i]) and (not math.isnan(df['Female Population'][i])) and (not math.isnan(df['Sex Ratio'][i]))):\n",
        "    df['Population [2011]'][i]=(df['Female Population'][i]/(1000*df['Sex Ratio'][i]))+df['Female Population'][i]\n",
        "    # print(\"hello\")\n",
        "  if((not math.isnan(df['Population [2011]'][i])) and ( math.isnan(df['Female Population'][i])) and (not math.isnan(df['Sex Ratio'][i]))):\n",
        "    df['Female Population'][i]=df['Population [2011]'][i]*(1000*df['Sex Ratio'][i])/(1+(1000*df['Sex Ratio'][i]))\n",
        "  \n",
        "  if((not math.isnan(df['Population [2011]'][i])) and ( not math.isnan(df['Female Population'][i])) and ( math.isnan(df['Sex Ratio'][i]))):\n",
        "    df['Sex Ratio'][i]=df['Female Population'][i]/(1000*(df['Population [2011]'][i]-df['Female Population'][i]))\n",
        "df.isnull().sum()\n",
        "print(df['Type'].unique())"
      ],
      "execution_count": 151,
      "outputs": [
        {
          "output_type": "stream",
          "text": [
            "['TC' 'TMC' 'MCl' 'NP' 'UA' 'M' 'NT' 'CT' 'MB' 'INA' 'NPP' 'NA' 'NAC' 'MC'\n",
            " 'TP' 'GP' 'M&F' nan]\n"
          ],
          "name": "stdout"
        }
      ]
    },
    {
      "cell_type": "code",
      "metadata": {
        "id": "23Hz6tlGZmfw",
        "colab_type": "code",
        "colab": {
          "base_uri": "https://localhost:8080/",
          "height": 235
        },
        "outputId": "cc7a5c2a-b43e-4605-be7c-90c1e4739bba"
      },
      "source": [
        "df3.isnull().sum()"
      ],
      "execution_count": 152,
      "outputs": [
        {
          "output_type": "execute_result",
          "data": {
            "text/plain": [
              "City                 0\n",
              "State                0\n",
              "Type                 2\n",
              "Population [2011]    0\n",
              "Sex Ratio            0\n",
              "Avg Temp             0\n",
              "SWM                  9\n",
              "Toilets Avl          0\n",
              "Water Purity         0\n",
              "Female Population    0\n",
              "# of hospitals       0\n",
              "Foreign Visitors     0\n",
              "dtype: int64"
            ]
          },
          "metadata": {
            "tags": []
          },
          "execution_count": 152
        }
      ]
    },
    {
      "cell_type": "code",
      "metadata": {
        "id": "RV8LMy4IZypE",
        "colab_type": "code",
        "colab": {
          "base_uri": "https://localhost:8080/",
          "height": 67
        },
        "outputId": "bd0f549d-1565-4918-b500-8dc28af55428"
      },
      "source": [
        "## SWM encoding\n",
        "j = 0\n",
        "swm = {'MEDIUM': 0, 'HIGH': 1, 'LOW': 2}\n",
        "for i in range(len(df3)):\n",
        "  if df3['SWM'][i] in swm.keys():\n",
        "    df3['SWM'][i] = swm[df3['SWM'][i]]\n",
        "print(df3['SWM'].unique())\n",
        "print(df3['Type'].unique())"
      ],
      "execution_count": 153,
      "outputs": [
        {
          "output_type": "stream",
          "text": [
            "[0 1 2 nan]\n",
            "['TC' 'TMC' 'MCl' 'NP' 'UA' 'M' 'NT' 'CT' 'MB' 'INA' 'NPP' 'NA' 'NAC' 'MC'\n",
            " 'TP' 'GP' 'M&F' nan]\n"
          ],
          "name": "stdout"
        }
      ]
    },
    {
      "cell_type": "code",
      "metadata": {
        "id": "utvGyOSXZ4m_",
        "colab_type": "code",
        "colab": {
          "base_uri": "https://localhost:8080/",
          "height": 84
        },
        "outputId": "76bc999a-82c9-4e27-eab3-11769230d388"
      },
      "source": [
        "state = {'Maharashtra': 0, 'Delhi': 1, 'Karnataka': 2, 'Telangana': 3, 'Gujarat': 4, 'Tamil Nadu': 5, 'Tamil nadu': 6, 'West Bengal': 7, 'Rajasthan': 8, 'Uttar Pradesh': 9, 'Madhya Pradesh': 10, 'Andhra Pradesh': 11, 'Bihar': 12, 'Punjab': 13, 'Jharkhand': 14, 'Haryana': 15, 'Jammu and Kashmir': 16, 'Chandigarh': 17, 'Chhattisgarh': 18, 'Assam': 19, 'Odisha': 20, 'Kerala': 21, 'Uttarakhand': 22, 'Tripura': 23, 'Puducherry': 24, 'Mizoram': 25, 'Manipur': 26, 'Himachal Pradesh': 27, 'Sikkim': 28, 'Andaman and Nicobar Islands': 29, 'Goa': 30, 'Nagaland': 31, 'Meghalaya': 32, 'Arunachal Pradesh' : 33, 'Dadra and Nagar Haveli':34, 'Andhra pradesh': 11}\n",
        "for i in range(len(df3)):\n",
        "  if df3['State'][i] in state.keys():\n",
        "    df3['State'][i] = state[df3['State'][i]]\n",
        "print(df3['State'].unique())\n",
        "print(df3['Type'].unique())"
      ],
      "execution_count": 154,
      "outputs": [
        {
          "output_type": "stream",
          "text": [
            "[31 2 13 0 9 3 8 7 33 14 10 11 16 5 4 27 22 12 21 20 15 23 18 19 32 26 34\n",
            " 25]\n",
            "['TC' 'TMC' 'MCl' 'NP' 'UA' 'M' 'NT' 'CT' 'MB' 'INA' 'NPP' 'NA' 'NAC' 'MC'\n",
            " 'TP' 'GP' 'M&F' nan]\n"
          ],
          "name": "stdout"
        }
      ]
    },
    {
      "cell_type": "code",
      "metadata": {
        "id": "GVB3HNTmZ6vu",
        "colab_type": "code",
        "colab": {
          "base_uri": "https://localhost:8080/",
          "height": 319
        },
        "outputId": "84163c5b-82f6-4cdd-e9ba-430c498664a1"
      },
      "source": [
        "j = 0\n",
        "c_type = {}\n",
        "for i in df3['Type'].unique():\n",
        "  if(not (i!=i)):\n",
        "    a = i.replace('.','')\n",
        "    if a not in c_type.keys():\n",
        "      c_type[a] = j\n",
        "      print(j)\n",
        "      j+=1\n",
        "\n",
        "\n",
        "for i in range(len(df3)):\n",
        "  if(not (df3['Type'][i]!=df3['Type'][i])):\n",
        "    a = df3['Type'][i].replace('.','')\n",
        "    if a in c_type.keys():\n",
        "      df3['Type'][i] = c_type[a]\n",
        "print(df3['Type'].unique())"
      ],
      "execution_count": 155,
      "outputs": [
        {
          "output_type": "stream",
          "text": [
            "0\n",
            "1\n",
            "2\n",
            "3\n",
            "4\n",
            "5\n",
            "6\n",
            "7\n",
            "8\n",
            "9\n",
            "10\n",
            "11\n",
            "12\n",
            "13\n",
            "14\n",
            "15\n",
            "16\n",
            "[0 1 2 3 4 5 6 7 8 9 10 11 12 13 14 15 16 nan]\n"
          ],
          "name": "stdout"
        }
      ]
    },
    {
      "cell_type": "code",
      "metadata": {
        "id": "kZKn59lnZ9V_",
        "colab_type": "code",
        "colab": {
          "base_uri": "https://localhost:8080/",
          "height": 235
        },
        "outputId": "d818a2b8-47ef-4a16-fbf7-29315d412b90"
      },
      "source": [
        "df3.isnull().sum()"
      ],
      "execution_count": 161,
      "outputs": [
        {
          "output_type": "execute_result",
          "data": {
            "text/plain": [
              "City                 0\n",
              "State                0\n",
              "Type                 0\n",
              "Population [2011]    0\n",
              "Sex Ratio            0\n",
              "Avg Temp             0\n",
              "SWM                  0\n",
              "Toilets Avl          0\n",
              "Water Purity         0\n",
              "Female Population    0\n",
              "# of hospitals       0\n",
              "Foreign Visitors     0\n",
              "dtype: int64"
            ]
          },
          "metadata": {
            "tags": []
          },
          "execution_count": 161
        }
      ]
    },
    {
      "cell_type": "code",
      "metadata": {
        "id": "C7c-GcMhaAeE",
        "colab_type": "code",
        "colab": {
          "base_uri": "https://localhost:8080/",
          "height": 34
        },
        "outputId": "0df2b091-e470-4357-b92c-b80a353aa9d6"
      },
      "source": [
        "print(df3[\"SWM\"].unique())\n",
        "df3['Type']=df3['Type'].fillna((0)) \n",
        "\n",
        "df3['SWM']=df3['SWM'].fillna((0)) "
      ],
      "execution_count": 159,
      "outputs": [
        {
          "output_type": "stream",
          "text": [
            "[0 1 2 nan]\n"
          ],
          "name": "stdout"
        }
      ]
    },
    {
      "cell_type": "code",
      "metadata": {
        "id": "bjWnkUHQaKac",
        "colab_type": "code",
        "colab": {
          "base_uri": "https://localhost:8080/",
          "height": 34
        },
        "outputId": "d8807058-8144-4e95-8820-1fd3627ce592"
      },
      "source": [
        "Cities = df3[[\"City\"]]\n",
        "x_dataset = df3[['State','Type','Population [2011]','Sex Ratio','Avg Temp','SWM','Toilets Avl','Water Purity','Female Population','# of hospitals','Foreign Visitors']]\n",
        "x_dataset['Type'].unique()"
      ],
      "execution_count": 160,
      "outputs": [
        {
          "output_type": "execute_result",
          "data": {
            "text/plain": [
              "array([ 0,  1,  2,  3,  4,  5,  6,  7,  8,  9, 10, 11, 12, 13, 14, 15, 16])"
            ]
          },
          "metadata": {
            "tags": []
          },
          "execution_count": 160
        }
      ]
    },
    {
      "cell_type": "code",
      "metadata": {
        "id": "U2bzCnVUaM04",
        "colab_type": "code",
        "colab": {
          "base_uri": "https://localhost:8080/",
          "height": 34
        },
        "outputId": "f4261e64-d972-4fa4-fb78-bf095f4c5c4b"
      },
      "source": [
        "Cities = df3[[\"City\"]]\n",
        "x_dataset = df3[['State','Type','Population [2011]','Sex Ratio','Avg Temp','SWM','Toilets Avl','Water Purity','Female Population','# of hospitals','Foreign Visitors']]\n",
        "x_dataset['Type'].unique()"
      ],
      "execution_count": 162,
      "outputs": [
        {
          "output_type": "execute_result",
          "data": {
            "text/plain": [
              "array([ 0,  1,  2,  3,  4,  5,  6,  7,  8,  9, 10, 11, 12, 13, 14, 15, 16])"
            ]
          },
          "metadata": {
            "tags": []
          },
          "execution_count": 162
        }
      ]
    },
    {
      "cell_type": "code",
      "metadata": {
        "id": "fVKevaa0aRsQ",
        "colab_type": "code",
        "colab": {}
      },
      "source": [
        "Cities.insert(1, \"Covid Cases\", Cities, True)"
      ],
      "execution_count": 163,
      "outputs": []
    },
    {
      "cell_type": "code",
      "metadata": {
        "id": "yujSK0jpaU45",
        "colab_type": "code",
        "colab": {
          "base_uri": "https://localhost:8080/",
          "height": 402
        },
        "outputId": "11c4c941-b8e8-47e9-f230-a372f615b202"
      },
      "source": [
        "Cities"
      ],
      "execution_count": 164,
      "outputs": [
        {
          "output_type": "execute_result",
          "data": {
            "text/html": [
              "<div>\n",
              "<style scoped>\n",
              "    .dataframe tbody tr th:only-of-type {\n",
              "        vertical-align: middle;\n",
              "    }\n",
              "\n",
              "    .dataframe tbody tr th {\n",
              "        vertical-align: top;\n",
              "    }\n",
              "\n",
              "    .dataframe thead th {\n",
              "        text-align: right;\n",
              "    }\n",
              "</style>\n",
              "<table border=\"1\" class=\"dataframe\">\n",
              "  <thead>\n",
              "    <tr style=\"text-align: right;\">\n",
              "      <th></th>\n",
              "      <th>City</th>\n",
              "      <th>Covid Cases</th>\n",
              "    </tr>\n",
              "  </thead>\n",
              "  <tbody>\n",
              "    <tr>\n",
              "      <th>0</th>\n",
              "      <td>Tuensang</td>\n",
              "      <td>Tuensang</td>\n",
              "    </tr>\n",
              "    <tr>\n",
              "      <th>1</th>\n",
              "      <td>Lakshmeshwar</td>\n",
              "      <td>Lakshmeshwar</td>\n",
              "    </tr>\n",
              "    <tr>\n",
              "      <th>2</th>\n",
              "      <td>Zira</td>\n",
              "      <td>Zira</td>\n",
              "    </tr>\n",
              "    <tr>\n",
              "      <th>3</th>\n",
              "      <td>Yawal</td>\n",
              "      <td>Yawal</td>\n",
              "    </tr>\n",
              "    <tr>\n",
              "      <th>4</th>\n",
              "      <td>Thana Bhawan</td>\n",
              "      <td>Thana Bhawan</td>\n",
              "    </tr>\n",
              "    <tr>\n",
              "      <th>...</th>\n",
              "      <td>...</td>\n",
              "      <td>...</td>\n",
              "    </tr>\n",
              "    <tr>\n",
              "      <th>496</th>\n",
              "      <td>Nandaprayag</td>\n",
              "      <td>Nandaprayag</td>\n",
              "    </tr>\n",
              "    <tr>\n",
              "      <th>497</th>\n",
              "      <td>Kirtinagar</td>\n",
              "      <td>Kirtinagar</td>\n",
              "    </tr>\n",
              "    <tr>\n",
              "      <th>498</th>\n",
              "      <td>Kedarnath</td>\n",
              "      <td>Kedarnath</td>\n",
              "    </tr>\n",
              "    <tr>\n",
              "      <th>499</th>\n",
              "      <td>Gangotri</td>\n",
              "      <td>Gangotri</td>\n",
              "    </tr>\n",
              "    <tr>\n",
              "      <th>500</th>\n",
              "      <td>Kumarganj</td>\n",
              "      <td>Kumarganj</td>\n",
              "    </tr>\n",
              "  </tbody>\n",
              "</table>\n",
              "<p>501 rows × 2 columns</p>\n",
              "</div>"
            ],
            "text/plain": [
              "             City   Covid Cases\n",
              "0        Tuensang      Tuensang\n",
              "1    Lakshmeshwar  Lakshmeshwar\n",
              "2            Zira          Zira\n",
              "3           Yawal         Yawal\n",
              "4    Thana Bhawan  Thana Bhawan\n",
              "..            ...           ...\n",
              "496   Nandaprayag   Nandaprayag\n",
              "497    Kirtinagar    Kirtinagar\n",
              "498     Kedarnath     Kedarnath\n",
              "499      Gangotri      Gangotri\n",
              "500     Kumarganj     Kumarganj\n",
              "\n",
              "[501 rows x 2 columns]"
            ]
          },
          "metadata": {
            "tags": []
          },
          "execution_count": 164
        }
      ]
    },
    {
      "cell_type": "code",
      "metadata": {
        "id": "52ljtijHaXHr",
        "colab_type": "code",
        "colab": {
          "base_uri": "https://localhost:8080/",
          "height": 195
        },
        "outputId": "9fd725f6-c7b7-41cd-cfeb-97818b6a0284"
      },
      "source": [
        "df3.head()"
      ],
      "execution_count": 165,
      "outputs": [
        {
          "output_type": "execute_result",
          "data": {
            "text/html": [
              "<div>\n",
              "<style scoped>\n",
              "    .dataframe tbody tr th:only-of-type {\n",
              "        vertical-align: middle;\n",
              "    }\n",
              "\n",
              "    .dataframe tbody tr th {\n",
              "        vertical-align: top;\n",
              "    }\n",
              "\n",
              "    .dataframe thead th {\n",
              "        text-align: right;\n",
              "    }\n",
              "</style>\n",
              "<table border=\"1\" class=\"dataframe\">\n",
              "  <thead>\n",
              "    <tr style=\"text-align: right;\">\n",
              "      <th></th>\n",
              "      <th>City</th>\n",
              "      <th>State</th>\n",
              "      <th>Type</th>\n",
              "      <th>Population [2011]</th>\n",
              "      <th>Sex Ratio</th>\n",
              "      <th>Avg Temp</th>\n",
              "      <th>SWM</th>\n",
              "      <th>Toilets Avl</th>\n",
              "      <th>Water Purity</th>\n",
              "      <th>Female Population</th>\n",
              "      <th># of hospitals</th>\n",
              "      <th>Foreign Visitors</th>\n",
              "    </tr>\n",
              "  </thead>\n",
              "  <tbody>\n",
              "    <tr>\n",
              "      <th>0</th>\n",
              "      <td>Tuensang</td>\n",
              "      <td>31</td>\n",
              "      <td>0</td>\n",
              "      <td>36774.0</td>\n",
              "      <td>931.0</td>\n",
              "      <td>10.0</td>\n",
              "      <td>0</td>\n",
              "      <td>94.0</td>\n",
              "      <td>114.0</td>\n",
              "      <td>34237.0</td>\n",
              "      <td>17.0</td>\n",
              "      <td>2769.0</td>\n",
              "    </tr>\n",
              "    <tr>\n",
              "      <th>1</th>\n",
              "      <td>Lakshmeshwar</td>\n",
              "      <td>2</td>\n",
              "      <td>1</td>\n",
              "      <td>36754.0</td>\n",
              "      <td>934.0</td>\n",
              "      <td>38.0</td>\n",
              "      <td>1</td>\n",
              "      <td>62.0</td>\n",
              "      <td>160.0</td>\n",
              "      <td>34328.0</td>\n",
              "      <td>13.0</td>\n",
              "      <td>636502.0</td>\n",
              "    </tr>\n",
              "    <tr>\n",
              "      <th>2</th>\n",
              "      <td>Zira</td>\n",
              "      <td>13</td>\n",
              "      <td>2</td>\n",
              "      <td>36732.0</td>\n",
              "      <td>883.0</td>\n",
              "      <td>35.0</td>\n",
              "      <td>1</td>\n",
              "      <td>63.0</td>\n",
              "      <td>105.0</td>\n",
              "      <td>32434.0</td>\n",
              "      <td>17.0</td>\n",
              "      <td>242367.0</td>\n",
              "    </tr>\n",
              "    <tr>\n",
              "      <th>3</th>\n",
              "      <td>Yawal</td>\n",
              "      <td>0</td>\n",
              "      <td>2</td>\n",
              "      <td>36706.0</td>\n",
              "      <td>887.0</td>\n",
              "      <td>31.0</td>\n",
              "      <td>1</td>\n",
              "      <td>60.0</td>\n",
              "      <td>174.0</td>\n",
              "      <td>32558.0</td>\n",
              "      <td>11.0</td>\n",
              "      <td>4408916.0</td>\n",
              "    </tr>\n",
              "    <tr>\n",
              "      <th>4</th>\n",
              "      <td>Thana Bhawan</td>\n",
              "      <td>9</td>\n",
              "      <td>3</td>\n",
              "      <td>36669.0</td>\n",
              "      <td>877.0</td>\n",
              "      <td>39.0</td>\n",
              "      <td>2</td>\n",
              "      <td>92.0</td>\n",
              "      <td>153.0</td>\n",
              "      <td>32159.0</td>\n",
              "      <td>23.0</td>\n",
              "      <td>3104060.0</td>\n",
              "    </tr>\n",
              "  </tbody>\n",
              "</table>\n",
              "</div>"
            ],
            "text/plain": [
              "           City State  ...  # of hospitals  Foreign Visitors\n",
              "0      Tuensang    31  ...            17.0            2769.0\n",
              "1  Lakshmeshwar     2  ...            13.0          636502.0\n",
              "2          Zira    13  ...            17.0          242367.0\n",
              "3         Yawal     0  ...            11.0         4408916.0\n",
              "4  Thana Bhawan     9  ...            23.0         3104060.0\n",
              "\n",
              "[5 rows x 12 columns]"
            ]
          },
          "metadata": {
            "tags": []
          },
          "execution_count": 165
        }
      ]
    },
    {
      "cell_type": "code",
      "metadata": {
        "id": "tFdbgIKqaceX",
        "colab_type": "code",
        "colab": {}
      },
      "source": [
        "df3 = df3.drop(['City'], axis = 1)"
      ],
      "execution_count": 171,
      "outputs": []
    },
    {
      "cell_type": "code",
      "metadata": {
        "id": "nHjVggEcaj0b",
        "colab_type": "code",
        "colab": {
          "base_uri": "https://localhost:8080/",
          "height": 320
        },
        "outputId": "cefc798f-7e02-4484-c2bb-3917f301e7cf"
      },
      "source": [
        "df3 = df.drop(['H Index','Popuation [2001]','Median Age'], axis = 1)\n"
      ],
      "execution_count": 168,
      "outputs": [
        {
          "output_type": "error",
          "ename": "KeyError",
          "evalue": "ignored",
          "traceback": [
            "\u001b[0;31m---------------------------------------------------------------------------\u001b[0m",
            "\u001b[0;31mKeyError\u001b[0m                                  Traceback (most recent call last)",
            "\u001b[0;32m<ipython-input-168-efd158657fed>\u001b[0m in \u001b[0;36m<module>\u001b[0;34m()\u001b[0m\n\u001b[0;32m----> 1\u001b[0;31m \u001b[0mdf3\u001b[0m \u001b[0;34m=\u001b[0m \u001b[0mdf\u001b[0m\u001b[0;34m.\u001b[0m\u001b[0mdrop\u001b[0m\u001b[0;34m(\u001b[0m\u001b[0;34m[\u001b[0m\u001b[0;34m'H Index'\u001b[0m\u001b[0;34m,\u001b[0m\u001b[0;34m'Popuation [2001]'\u001b[0m\u001b[0;34m,\u001b[0m\u001b[0;34m'Median Age'\u001b[0m\u001b[0;34m]\u001b[0m\u001b[0;34m,\u001b[0m \u001b[0maxis\u001b[0m \u001b[0;34m=\u001b[0m \u001b[0;36m1\u001b[0m\u001b[0;34m)\u001b[0m\u001b[0;34m\u001b[0m\u001b[0;34m\u001b[0m\u001b[0m\n\u001b[0m\u001b[1;32m      2\u001b[0m \u001b[0mdf3\u001b[0m\u001b[0;34m.\u001b[0m\u001b[0mhead\u001b[0m\u001b[0;34m(\u001b[0m\u001b[0;34m)\u001b[0m\u001b[0;34m\u001b[0m\u001b[0;34m\u001b[0m\u001b[0m\n",
            "\u001b[0;32m/usr/local/lib/python3.6/dist-packages/pandas/core/frame.py\u001b[0m in \u001b[0;36mdrop\u001b[0;34m(self, labels, axis, index, columns, level, inplace, errors)\u001b[0m\n\u001b[1;32m   3995\u001b[0m             \u001b[0mlevel\u001b[0m\u001b[0;34m=\u001b[0m\u001b[0mlevel\u001b[0m\u001b[0;34m,\u001b[0m\u001b[0;34m\u001b[0m\u001b[0;34m\u001b[0m\u001b[0m\n\u001b[1;32m   3996\u001b[0m             \u001b[0minplace\u001b[0m\u001b[0;34m=\u001b[0m\u001b[0minplace\u001b[0m\u001b[0;34m,\u001b[0m\u001b[0;34m\u001b[0m\u001b[0;34m\u001b[0m\u001b[0m\n\u001b[0;32m-> 3997\u001b[0;31m             \u001b[0merrors\u001b[0m\u001b[0;34m=\u001b[0m\u001b[0merrors\u001b[0m\u001b[0;34m,\u001b[0m\u001b[0;34m\u001b[0m\u001b[0;34m\u001b[0m\u001b[0m\n\u001b[0m\u001b[1;32m   3998\u001b[0m         )\n\u001b[1;32m   3999\u001b[0m \u001b[0;34m\u001b[0m\u001b[0m\n",
            "\u001b[0;32m/usr/local/lib/python3.6/dist-packages/pandas/core/generic.py\u001b[0m in \u001b[0;36mdrop\u001b[0;34m(self, labels, axis, index, columns, level, inplace, errors)\u001b[0m\n\u001b[1;32m   3934\u001b[0m         \u001b[0;32mfor\u001b[0m \u001b[0maxis\u001b[0m\u001b[0;34m,\u001b[0m \u001b[0mlabels\u001b[0m \u001b[0;32min\u001b[0m \u001b[0maxes\u001b[0m\u001b[0;34m.\u001b[0m\u001b[0mitems\u001b[0m\u001b[0;34m(\u001b[0m\u001b[0;34m)\u001b[0m\u001b[0;34m:\u001b[0m\u001b[0;34m\u001b[0m\u001b[0;34m\u001b[0m\u001b[0m\n\u001b[1;32m   3935\u001b[0m             \u001b[0;32mif\u001b[0m \u001b[0mlabels\u001b[0m \u001b[0;32mis\u001b[0m \u001b[0;32mnot\u001b[0m \u001b[0;32mNone\u001b[0m\u001b[0;34m:\u001b[0m\u001b[0;34m\u001b[0m\u001b[0;34m\u001b[0m\u001b[0m\n\u001b[0;32m-> 3936\u001b[0;31m                 \u001b[0mobj\u001b[0m \u001b[0;34m=\u001b[0m \u001b[0mobj\u001b[0m\u001b[0;34m.\u001b[0m\u001b[0m_drop_axis\u001b[0m\u001b[0;34m(\u001b[0m\u001b[0mlabels\u001b[0m\u001b[0;34m,\u001b[0m \u001b[0maxis\u001b[0m\u001b[0;34m,\u001b[0m \u001b[0mlevel\u001b[0m\u001b[0;34m=\u001b[0m\u001b[0mlevel\u001b[0m\u001b[0;34m,\u001b[0m \u001b[0merrors\u001b[0m\u001b[0;34m=\u001b[0m\u001b[0merrors\u001b[0m\u001b[0;34m)\u001b[0m\u001b[0;34m\u001b[0m\u001b[0;34m\u001b[0m\u001b[0m\n\u001b[0m\u001b[1;32m   3937\u001b[0m \u001b[0;34m\u001b[0m\u001b[0m\n\u001b[1;32m   3938\u001b[0m         \u001b[0;32mif\u001b[0m \u001b[0minplace\u001b[0m\u001b[0;34m:\u001b[0m\u001b[0;34m\u001b[0m\u001b[0;34m\u001b[0m\u001b[0m\n",
            "\u001b[0;32m/usr/local/lib/python3.6/dist-packages/pandas/core/generic.py\u001b[0m in \u001b[0;36m_drop_axis\u001b[0;34m(self, labels, axis, level, errors)\u001b[0m\n\u001b[1;32m   3968\u001b[0m                 \u001b[0mnew_axis\u001b[0m \u001b[0;34m=\u001b[0m \u001b[0maxis\u001b[0m\u001b[0;34m.\u001b[0m\u001b[0mdrop\u001b[0m\u001b[0;34m(\u001b[0m\u001b[0mlabels\u001b[0m\u001b[0;34m,\u001b[0m \u001b[0mlevel\u001b[0m\u001b[0;34m=\u001b[0m\u001b[0mlevel\u001b[0m\u001b[0;34m,\u001b[0m \u001b[0merrors\u001b[0m\u001b[0;34m=\u001b[0m\u001b[0merrors\u001b[0m\u001b[0;34m)\u001b[0m\u001b[0;34m\u001b[0m\u001b[0;34m\u001b[0m\u001b[0m\n\u001b[1;32m   3969\u001b[0m             \u001b[0;32melse\u001b[0m\u001b[0;34m:\u001b[0m\u001b[0;34m\u001b[0m\u001b[0;34m\u001b[0m\u001b[0m\n\u001b[0;32m-> 3970\u001b[0;31m                 \u001b[0mnew_axis\u001b[0m \u001b[0;34m=\u001b[0m \u001b[0maxis\u001b[0m\u001b[0;34m.\u001b[0m\u001b[0mdrop\u001b[0m\u001b[0;34m(\u001b[0m\u001b[0mlabels\u001b[0m\u001b[0;34m,\u001b[0m \u001b[0merrors\u001b[0m\u001b[0;34m=\u001b[0m\u001b[0merrors\u001b[0m\u001b[0;34m)\u001b[0m\u001b[0;34m\u001b[0m\u001b[0;34m\u001b[0m\u001b[0m\n\u001b[0m\u001b[1;32m   3971\u001b[0m             \u001b[0mresult\u001b[0m \u001b[0;34m=\u001b[0m \u001b[0mself\u001b[0m\u001b[0;34m.\u001b[0m\u001b[0mreindex\u001b[0m\u001b[0;34m(\u001b[0m\u001b[0;34m**\u001b[0m\u001b[0;34m{\u001b[0m\u001b[0maxis_name\u001b[0m\u001b[0;34m:\u001b[0m \u001b[0mnew_axis\u001b[0m\u001b[0;34m}\u001b[0m\u001b[0;34m)\u001b[0m\u001b[0;34m\u001b[0m\u001b[0;34m\u001b[0m\u001b[0m\n\u001b[1;32m   3972\u001b[0m \u001b[0;34m\u001b[0m\u001b[0m\n",
            "\u001b[0;32m/usr/local/lib/python3.6/dist-packages/pandas/core/indexes/base.py\u001b[0m in \u001b[0;36mdrop\u001b[0;34m(self, labels, errors)\u001b[0m\n\u001b[1;32m   5016\u001b[0m         \u001b[0;32mif\u001b[0m \u001b[0mmask\u001b[0m\u001b[0;34m.\u001b[0m\u001b[0many\u001b[0m\u001b[0;34m(\u001b[0m\u001b[0;34m)\u001b[0m\u001b[0;34m:\u001b[0m\u001b[0;34m\u001b[0m\u001b[0;34m\u001b[0m\u001b[0m\n\u001b[1;32m   5017\u001b[0m             \u001b[0;32mif\u001b[0m \u001b[0merrors\u001b[0m \u001b[0;34m!=\u001b[0m \u001b[0;34m\"ignore\"\u001b[0m\u001b[0;34m:\u001b[0m\u001b[0;34m\u001b[0m\u001b[0;34m\u001b[0m\u001b[0m\n\u001b[0;32m-> 5018\u001b[0;31m                 \u001b[0;32mraise\u001b[0m \u001b[0mKeyError\u001b[0m\u001b[0;34m(\u001b[0m\u001b[0;34mf\"{labels[mask]} not found in axis\"\u001b[0m\u001b[0;34m)\u001b[0m\u001b[0;34m\u001b[0m\u001b[0;34m\u001b[0m\u001b[0m\n\u001b[0m\u001b[1;32m   5019\u001b[0m             \u001b[0mindexer\u001b[0m \u001b[0;34m=\u001b[0m \u001b[0mindexer\u001b[0m\u001b[0;34m[\u001b[0m\u001b[0;34m~\u001b[0m\u001b[0mmask\u001b[0m\u001b[0;34m]\u001b[0m\u001b[0;34m\u001b[0m\u001b[0;34m\u001b[0m\u001b[0m\n\u001b[1;32m   5020\u001b[0m         \u001b[0;32mreturn\u001b[0m \u001b[0mself\u001b[0m\u001b[0;34m.\u001b[0m\u001b[0mdelete\u001b[0m\u001b[0;34m(\u001b[0m\u001b[0mindexer\u001b[0m\u001b[0;34m)\u001b[0m\u001b[0;34m\u001b[0m\u001b[0;34m\u001b[0m\u001b[0m\n",
            "\u001b[0;31mKeyError\u001b[0m: \"['H Index' 'Popuation [2001]' 'Median Age'] not found in axis\""
          ]
        }
      ]
    },
    {
      "cell_type": "code",
      "metadata": {
        "id": "3kImWwePauzW",
        "colab_type": "code",
        "colab": {
          "base_uri": "https://localhost:8080/",
          "height": 195
        },
        "outputId": "7041afe5-8ee3-495a-f8bb-d845d098117e"
      },
      "source": [
        "\n",
        "df3.head()"
      ],
      "execution_count": 172,
      "outputs": [
        {
          "output_type": "execute_result",
          "data": {
            "text/html": [
              "<div>\n",
              "<style scoped>\n",
              "    .dataframe tbody tr th:only-of-type {\n",
              "        vertical-align: middle;\n",
              "    }\n",
              "\n",
              "    .dataframe tbody tr th {\n",
              "        vertical-align: top;\n",
              "    }\n",
              "\n",
              "    .dataframe thead th {\n",
              "        text-align: right;\n",
              "    }\n",
              "</style>\n",
              "<table border=\"1\" class=\"dataframe\">\n",
              "  <thead>\n",
              "    <tr style=\"text-align: right;\">\n",
              "      <th></th>\n",
              "      <th>State</th>\n",
              "      <th>Type</th>\n",
              "      <th>Population [2011]</th>\n",
              "      <th>Sex Ratio</th>\n",
              "      <th>Avg Temp</th>\n",
              "      <th>SWM</th>\n",
              "      <th>Toilets Avl</th>\n",
              "      <th>Water Purity</th>\n",
              "      <th>Female Population</th>\n",
              "      <th># of hospitals</th>\n",
              "      <th>Foreign Visitors</th>\n",
              "    </tr>\n",
              "  </thead>\n",
              "  <tbody>\n",
              "    <tr>\n",
              "      <th>0</th>\n",
              "      <td>31</td>\n",
              "      <td>0</td>\n",
              "      <td>36774.0</td>\n",
              "      <td>931.0</td>\n",
              "      <td>10.0</td>\n",
              "      <td>0</td>\n",
              "      <td>94.0</td>\n",
              "      <td>114.0</td>\n",
              "      <td>34237.0</td>\n",
              "      <td>17.0</td>\n",
              "      <td>2769.0</td>\n",
              "    </tr>\n",
              "    <tr>\n",
              "      <th>1</th>\n",
              "      <td>2</td>\n",
              "      <td>1</td>\n",
              "      <td>36754.0</td>\n",
              "      <td>934.0</td>\n",
              "      <td>38.0</td>\n",
              "      <td>1</td>\n",
              "      <td>62.0</td>\n",
              "      <td>160.0</td>\n",
              "      <td>34328.0</td>\n",
              "      <td>13.0</td>\n",
              "      <td>636502.0</td>\n",
              "    </tr>\n",
              "    <tr>\n",
              "      <th>2</th>\n",
              "      <td>13</td>\n",
              "      <td>2</td>\n",
              "      <td>36732.0</td>\n",
              "      <td>883.0</td>\n",
              "      <td>35.0</td>\n",
              "      <td>1</td>\n",
              "      <td>63.0</td>\n",
              "      <td>105.0</td>\n",
              "      <td>32434.0</td>\n",
              "      <td>17.0</td>\n",
              "      <td>242367.0</td>\n",
              "    </tr>\n",
              "    <tr>\n",
              "      <th>3</th>\n",
              "      <td>0</td>\n",
              "      <td>2</td>\n",
              "      <td>36706.0</td>\n",
              "      <td>887.0</td>\n",
              "      <td>31.0</td>\n",
              "      <td>1</td>\n",
              "      <td>60.0</td>\n",
              "      <td>174.0</td>\n",
              "      <td>32558.0</td>\n",
              "      <td>11.0</td>\n",
              "      <td>4408916.0</td>\n",
              "    </tr>\n",
              "    <tr>\n",
              "      <th>4</th>\n",
              "      <td>9</td>\n",
              "      <td>3</td>\n",
              "      <td>36669.0</td>\n",
              "      <td>877.0</td>\n",
              "      <td>39.0</td>\n",
              "      <td>2</td>\n",
              "      <td>92.0</td>\n",
              "      <td>153.0</td>\n",
              "      <td>32159.0</td>\n",
              "      <td>23.0</td>\n",
              "      <td>3104060.0</td>\n",
              "    </tr>\n",
              "  </tbody>\n",
              "</table>\n",
              "</div>"
            ],
            "text/plain": [
              "  State  Type  ...  # of hospitals  Foreign Visitors\n",
              "0    31     0  ...            17.0            2769.0\n",
              "1     2     1  ...            13.0          636502.0\n",
              "2    13     2  ...            17.0          242367.0\n",
              "3     0     2  ...            11.0         4408916.0\n",
              "4     9     3  ...            23.0         3104060.0\n",
              "\n",
              "[5 rows x 11 columns]"
            ]
          },
          "metadata": {
            "tags": []
          },
          "execution_count": 172
        }
      ]
    },
    {
      "cell_type": "code",
      "metadata": {
        "id": "ZZzHOH9faxmR",
        "colab_type": "code",
        "colab": {
          "base_uri": "https://localhost:8080/",
          "height": 195
        },
        "outputId": "7cdba838-24f4-4704-bcf1-982f2760871a"
      },
      "source": [
        "#normalise train dataset\n",
        "mm_scaler = preprocessing.MinMaxScaler()\n",
        "Train_minmax = mm_scaler.fit_transform(df3)\n",
        "X=pd.DataFrame(Train_minmax)\n",
        "X.head()"
      ],
      "execution_count": 173,
      "outputs": [
        {
          "output_type": "execute_result",
          "data": {
            "text/html": [
              "<div>\n",
              "<style scoped>\n",
              "    .dataframe tbody tr th:only-of-type {\n",
              "        vertical-align: middle;\n",
              "    }\n",
              "\n",
              "    .dataframe tbody tr th {\n",
              "        vertical-align: top;\n",
              "    }\n",
              "\n",
              "    .dataframe thead th {\n",
              "        text-align: right;\n",
              "    }\n",
              "</style>\n",
              "<table border=\"1\" class=\"dataframe\">\n",
              "  <thead>\n",
              "    <tr style=\"text-align: right;\">\n",
              "      <th></th>\n",
              "      <th>0</th>\n",
              "      <th>1</th>\n",
              "      <th>2</th>\n",
              "      <th>3</th>\n",
              "      <th>4</th>\n",
              "      <th>5</th>\n",
              "      <th>6</th>\n",
              "      <th>7</th>\n",
              "      <th>8</th>\n",
              "      <th>9</th>\n",
              "      <th>10</th>\n",
              "    </tr>\n",
              "  </thead>\n",
              "  <tbody>\n",
              "    <tr>\n",
              "      <th>0</th>\n",
              "      <td>0.911765</td>\n",
              "      <td>0.0000</td>\n",
              "      <td>1.000000</td>\n",
              "      <td>0.723502</td>\n",
              "      <td>0.142857</td>\n",
              "      <td>0.0</td>\n",
              "      <td>0.933333</td>\n",
              "      <td>0.14</td>\n",
              "      <td>0.991315</td>\n",
              "      <td>0.518519</td>\n",
              "      <td>0.000421</td>\n",
              "    </tr>\n",
              "    <tr>\n",
              "      <th>1</th>\n",
              "      <td>0.058824</td>\n",
              "      <td>0.0625</td>\n",
              "      <td>0.999455</td>\n",
              "      <td>0.737327</td>\n",
              "      <td>0.942857</td>\n",
              "      <td>0.5</td>\n",
              "      <td>0.577778</td>\n",
              "      <td>0.60</td>\n",
              "      <td>0.993950</td>\n",
              "      <td>0.370370</td>\n",
              "      <td>0.135721</td>\n",
              "    </tr>\n",
              "    <tr>\n",
              "      <th>2</th>\n",
              "      <td>0.382353</td>\n",
              "      <td>0.1250</td>\n",
              "      <td>0.998854</td>\n",
              "      <td>0.502304</td>\n",
              "      <td>0.857143</td>\n",
              "      <td>0.5</td>\n",
              "      <td>0.588889</td>\n",
              "      <td>0.05</td>\n",
              "      <td>0.939110</td>\n",
              "      <td>0.518519</td>\n",
              "      <td>0.051574</td>\n",
              "    </tr>\n",
              "    <tr>\n",
              "      <th>3</th>\n",
              "      <td>0.000000</td>\n",
              "      <td>0.1250</td>\n",
              "      <td>0.998145</td>\n",
              "      <td>0.520737</td>\n",
              "      <td>0.742857</td>\n",
              "      <td>0.5</td>\n",
              "      <td>0.555556</td>\n",
              "      <td>0.74</td>\n",
              "      <td>0.942700</td>\n",
              "      <td>0.296296</td>\n",
              "      <td>0.941119</td>\n",
              "    </tr>\n",
              "    <tr>\n",
              "      <th>4</th>\n",
              "      <td>0.264706</td>\n",
              "      <td>0.1875</td>\n",
              "      <td>0.997136</td>\n",
              "      <td>0.474654</td>\n",
              "      <td>0.971429</td>\n",
              "      <td>1.0</td>\n",
              "      <td>0.911111</td>\n",
              "      <td>0.53</td>\n",
              "      <td>0.931147</td>\n",
              "      <td>0.740741</td>\n",
              "      <td>0.662537</td>\n",
              "    </tr>\n",
              "  </tbody>\n",
              "</table>\n",
              "</div>"
            ],
            "text/plain": [
              "         0       1         2         3   ...    7         8         9         10\n",
              "0  0.911765  0.0000  1.000000  0.723502  ...  0.14  0.991315  0.518519  0.000421\n",
              "1  0.058824  0.0625  0.999455  0.737327  ...  0.60  0.993950  0.370370  0.135721\n",
              "2  0.382353  0.1250  0.998854  0.502304  ...  0.05  0.939110  0.518519  0.051574\n",
              "3  0.000000  0.1250  0.998145  0.520737  ...  0.74  0.942700  0.296296  0.941119\n",
              "4  0.264706  0.1875  0.997136  0.474654  ...  0.53  0.931147  0.740741  0.662537\n",
              "\n",
              "[5 rows x 11 columns]"
            ]
          },
          "metadata": {
            "tags": []
          },
          "execution_count": 173
        }
      ]
    },
    {
      "cell_type": "code",
      "metadata": {
        "id": "wq_VsT9BbEUs",
        "colab_type": "code",
        "colab": {}
      },
      "source": [
        "y_hat = model_xgb.predict(X)"
      ],
      "execution_count": 174,
      "outputs": []
    },
    {
      "cell_type": "code",
      "metadata": {
        "id": "SCSmB6n4bNvS",
        "colab_type": "code",
        "colab": {
          "base_uri": "https://localhost:8080/",
          "height": 1000
        },
        "outputId": "75ab29ce-b662-4694-a8a9-9d7b2793929a"
      },
      "source": [
        "y_hat"
      ],
      "execution_count": 176,
      "outputs": [
        {
          "output_type": "execute_result",
          "data": {
            "text/plain": [
              "array([11194.627 , 11467.832 , 12627.778 ,  8276.431 ,  8416.204 ,\n",
              "       10620.774 ,  7998.1284, 10046.339 , 11654.808 , 10077.748 ,\n",
              "       12172.008 ,  9953.106 , 10419.954 ,  9818.996 ,  8947.3125,\n",
              "       10826.651 ,  9080.658 , 10083.155 , 10643.711 ,  9850.684 ,\n",
              "       11220.244 , 10302.75  ,  9620.09  ,  7949.084 , 10452.736 ,\n",
              "       12834.237 ,  8978.396 ,  8239.703 ,  9837.669 ,  8842.041 ,\n",
              "       11715.017 , 12575.385 , 12050.157 , 10025.435 , 10094.375 ,\n",
              "       11149.229 ,  9345.13  , 12428.697 ,  9786.245 , 10084.207 ,\n",
              "       10978.08  ,  7498.8906, 13190.171 ,  9422.419 ,  9309.397 ,\n",
              "       11606.575 , 10501.341 , 11559.79  , 12507.421 ,  8986.92  ,\n",
              "       11820.88  , 10367.822 , 11249.369 , 11649.342 , 10674.308 ,\n",
              "        8850.768 , 10065.292 , 13185.846 , 10293.902 , 11018.841 ,\n",
              "       11809.498 ,  7738.3276, 10809.466 , 13239.523 ,  9592.127 ,\n",
              "        8932.948 ,  9322.509 ,  7337.313 ,  8840.337 , 10877.884 ,\n",
              "       12237.498 ,  7888.468 ,  9216.779 , 11354.838 , 10670.968 ,\n",
              "       10484.017 , 12013.475 , 10026.615 , 12869.956 , 11164.973 ,\n",
              "        8302.407 , 10607.505 , 11450.511 , 11457.964 ,  9274.389 ,\n",
              "       10208.558 ,  9030.596 ,  8429.094 , 10529.081 , 10983.672 ,\n",
              "       10288.738 , 11382.214 , 10295.412 , 12572.066 ,  9379.478 ,\n",
              "        8917.55  ,  9513.464 ,  9256.594 , 10693.043 ,  8934.538 ,\n",
              "       10585.382 , 10273.452 ,  9653.136 ,  9073.919 , 13214.41  ,\n",
              "        7904.678 , 11154.344 , 12160.661 , 12900.945 , 12183.666 ,\n",
              "        8163.3525, 12341.3955, 10057.967 ,  9512.428 ,  8553.365 ,\n",
              "        7988.943 ,  9950.554 , 12979.285 , 10223.935 , 11722.342 ,\n",
              "       12884.0205, 12011.968 , 12728.889 ,  8952.344 , 11172.508 ,\n",
              "       10536.846 ,  9577.303 , 11036.355 , 10909.626 ,  9656.913 ,\n",
              "        9017.906 , 10340.237 ,  9716.922 ,  8285.053 ,  9308.528 ,\n",
              "       11180.696 ,  9702.09  , 11736.698 , 11123.66  , 10439.134 ,\n",
              "       12665.904 , 10344.759 , 10457.307 , 11039.023 , 11896.987 ,\n",
              "       10237.74  ,  9161.237 ,  9502.979 ,  9882.939 , 14210.792 ,\n",
              "       10808.615 , 11439.06  ,  9654.986 , 13251.971 , 10113.176 ,\n",
              "        9257.66  , 12578.779 , 10735.817 , 12507.373 , 11021.981 ,\n",
              "       10733.222 , 12066.432 , 10944.314 , 11448.345 , 10566.672 ,\n",
              "        9548.011 , 12397.624 , 12699.309 ,  9018.574 ,  9131.483 ,\n",
              "       11827.684 ,  7492.2397, 11496.685 ,  8905.27  ,  6663.527 ,\n",
              "       11240.713 , 11041.845 , 11075.337 ,  9608.552 , 12219.595 ,\n",
              "       11785.094 ,  8507.444 , 11550.384 ,  7981.9844, 11727.493 ,\n",
              "       12645.743 ,  8576.543 , 12071.79  , 10305.298 , 10400.269 ,\n",
              "       11627.783 , 12772.276 , 10779.234 ,  7330.7305, 11618.649 ,\n",
              "        9750.001 , 13223.064 , 10337.973 , 12341.004 , 10581.405 ,\n",
              "       11592.742 ,  7915.041 , 13079.494 , 11994.674 , 12390.881 ,\n",
              "       11689.191 ,  9885.754 ,  8877.337 ,  8128.689 , 10617.063 ,\n",
              "       10473.562 ,  8854.469 ,  7147.07  , 10012.393 ,  9117.628 ,\n",
              "        9569.476 ,  8180.527 ,  6593.261 , 13026.178 , 12676.843 ,\n",
              "       12227.99  ,  9818.464 ,  8291.92  , 12435.253 , 11152.385 ,\n",
              "       12543.304 , 10121.558 , 10030.819 , 10652.393 ,  9673.0625,\n",
              "        9765.592 , 12639.468 , 10445.672 ,  9928.302 , 12004.921 ,\n",
              "       11760.727 , 12789.694 ,  7883.4575, 12281.048 , 11215.247 ,\n",
              "        6981.5337, 11310.358 , 11030.759 , 10112.202 ,  9261.518 ,\n",
              "        9312.872 ,  9989.16  ,  9366.714 , 11130.047 ,  9881.759 ,\n",
              "       10489.287 , 11030.839 , 12859.705 , 10385.091 , 10083.724 ,\n",
              "        8995.603 , 10146.929 , 11035.26  , 11201.456 , 12046.77  ,\n",
              "       12421.071 , 12426.831 ,  9424.759 , 12404.82  , 12150.506 ,\n",
              "       10260.404 , 12043.018 , 10066.716 , 10597.695 , 10414.568 ,\n",
              "       10728.787 ,  9484.857 , 12260.346 , 10328.323 ,  9900.095 ,\n",
              "       11469.025 , 10142.363 ,  8442.826 , 11024.226 , 11302.135 ,\n",
              "        9032.051 , 10734.075 ,  9500.085 , 11930.382 , 11513.734 ,\n",
              "        9456.154 , 11454.936 , 13058.45  , 12321.793 , 10426.677 ,\n",
              "       10129.973 , 11172.542 ,  8848.864 ,  7926.0493,  8421.966 ,\n",
              "        7384.7363, 10373.296 , 11776.529 , 13828.109 ,  8423.556 ,\n",
              "       11240.251 , 11961.373 ,  7466.0034,  6712.859 ,  9728.3125,\n",
              "       12627.965 , 10263.453 , 11487.738 , 12700.253 , 11233.781 ,\n",
              "        7788.816 , 11531.719 ,  9836.814 , 10340.6875, 11143.557 ,\n",
              "       10405.618 ,  9095.44  , 11345.45  , 10820.905 , 10440.753 ,\n",
              "       12468.693 ,  7314.1665, 10207.789 , 10375.471 , 10683.396 ,\n",
              "        9670.507 , 10746.796 , 10449.443 ,  9392.231 ,  9275.754 ,\n",
              "       12732.85  ,  8471.301 , 11051.448 , 11973.8125, 10110.573 ,\n",
              "        8426.256 , 11600.223 , 10583.061 ,  8031.0293,  9378.184 ,\n",
              "        8640.548 , 11932.392 ,  7607.9673, 10442.413 , 11563.463 ,\n",
              "       10365.932 , 12503.867 , 10990.65  , 11404.3   , 12205.751 ,\n",
              "        8358.43  , 10941.211 , 11984.557 ,  9447.982 , 12277.938 ,\n",
              "        9354.552 , 10925.148 , 10163.795 ,  9394.187 , 10359.38  ,\n",
              "        9457.776 , 12073.107 ,  8928.656 , 12022.48  , 10099.481 ,\n",
              "        8856.018 , 11130.58  ,  8715.735 ,  9557.58  , 10160.827 ,\n",
              "        7931.8047,  8466.091 , 12420.791 ,  8641.307 , 10659.505 ,\n",
              "       10584.795 , 10510.924 , 10041.047 ,  9935.343 ,  9040.902 ,\n",
              "       11704.27  ,  8790.893 ,  9255.492 , 10326.747 ,  7596.4746,\n",
              "        6989.607 ,  9183.714 ,  7468.196 ,  7907.0493, 10149.622 ,\n",
              "        9651.28  , 12025.405 ,  8842.044 , 11174.36  ,  8664.663 ,\n",
              "        8611.908 , 11651.217 , 10744.3955, 11823.458 , 12792.844 ,\n",
              "       10265.675 , 10813.459 , 10316.218 , 10140.583 ,  9466.087 ,\n",
              "        7785.3696,  9196.623 , 11425.813 , 10687.211 , 12009.793 ,\n",
              "        8481.372 ,  9119.702 , 10035.022 ,  9965.951 ,  9938.382 ,\n",
              "        9206.749 ,  8066.445 ,  9635.802 , 11898.715 , 11854.515 ,\n",
              "        8166.6304,  8297.459 ,  8122.613 ,  8694.991 , 11503.568 ,\n",
              "       10927.812 , 11768.02  ,  8086.3745, 11144.41  , 10693.345 ,\n",
              "        8292.269 ,  8731.972 ,  9856.898 , 11352.139 ,  8984.584 ,\n",
              "       10861.047 ,  8640.108 , 11687.976 , 11944.28  ,  9362.07  ,\n",
              "        6720.5146,  8674.754 ,  7471.231 ,  9896.886 , 10242.022 ,\n",
              "        7926.7295,  8221.499 ,  6904.399 ,  6830.397 ,  5794.4175,\n",
              "        7072.075 ,  5601.739 ,  6079.6704,  7937.193 ,  5401.456 ,\n",
              "        8206.897 ,  6942.8516,  6823.5894,  5902.719 ,  8334.831 ,\n",
              "        6590.489 ,  5853.0117,  5758.895 ,  5674.653 ,  6342.4014,\n",
              "        5657.128 ,  6135.9634,  6181.374 ,  6739.2656,  5007.7334,\n",
              "        6926.4165,  7605.806 ,  8230.829 ,  8084.7344,  7562.6523,\n",
              "        9014.809 ,  7461.446 ,  8460.368 ,  5801.603 ,  6453.7173,\n",
              "        3837.5737,  4691.239 ,  5018.165 ,  2971.8403,  6234.61  ,\n",
              "        5144.837 ,  5064.659 ,  5046.5146,  4865.7505,  4444.2163,\n",
              "        3954.1367,  3663.5146,  4976.199 ,  4792.501 ,  3855.0354,\n",
              "        4942.4507,  5143.492 ,  5135.358 ,  2533.9634,  2496.3657,\n",
              "        5255.5405], dtype=float32)"
            ]
          },
          "metadata": {
            "tags": []
          },
          "execution_count": 176
        }
      ]
    },
    {
      "cell_type": "code",
      "metadata": {
        "id": "ggB2VLBIbPmp",
        "colab_type": "code",
        "colab": {}
      },
      "source": [
        "Cities[\"Covid Cases\"] = y_hat"
      ],
      "execution_count": 177,
      "outputs": []
    },
    {
      "cell_type": "code",
      "metadata": {
        "id": "MIp5oIScbbm_",
        "colab_type": "code",
        "colab": {}
      },
      "source": [
        "Cities.to_csv(\"part1.csv\")"
      ],
      "execution_count": 180,
      "outputs": []
    },
    {
      "cell_type": "code",
      "metadata": {
        "id": "gpqDFfsObefX",
        "colab_type": "code",
        "colab": {
          "base_uri": "https://localhost:8080/",
          "height": 402
        },
        "outputId": "ca3a9938-f321-46f5-a102-41b6e61d95cd"
      },
      "source": [
        "df3"
      ],
      "execution_count": 182,
      "outputs": [
        {
          "output_type": "execute_result",
          "data": {
            "text/html": [
              "<div>\n",
              "<style scoped>\n",
              "    .dataframe tbody tr th:only-of-type {\n",
              "        vertical-align: middle;\n",
              "    }\n",
              "\n",
              "    .dataframe tbody tr th {\n",
              "        vertical-align: top;\n",
              "    }\n",
              "\n",
              "    .dataframe thead th {\n",
              "        text-align: right;\n",
              "    }\n",
              "</style>\n",
              "<table border=\"1\" class=\"dataframe\">\n",
              "  <thead>\n",
              "    <tr style=\"text-align: right;\">\n",
              "      <th></th>\n",
              "      <th>State</th>\n",
              "      <th>Type</th>\n",
              "      <th>Population [2011]</th>\n",
              "      <th>Sex Ratio</th>\n",
              "      <th>Avg Temp</th>\n",
              "      <th>SWM</th>\n",
              "      <th>Toilets Avl</th>\n",
              "      <th>Water Purity</th>\n",
              "      <th>Female Population</th>\n",
              "      <th># of hospitals</th>\n",
              "      <th>Foreign Visitors</th>\n",
              "    </tr>\n",
              "  </thead>\n",
              "  <tbody>\n",
              "    <tr>\n",
              "      <th>0</th>\n",
              "      <td>31</td>\n",
              "      <td>0</td>\n",
              "      <td>36774.000000</td>\n",
              "      <td>931.0</td>\n",
              "      <td>10.0</td>\n",
              "      <td>0</td>\n",
              "      <td>94.0</td>\n",
              "      <td>114.0</td>\n",
              "      <td>34237.0</td>\n",
              "      <td>17.0</td>\n",
              "      <td>2769.0</td>\n",
              "    </tr>\n",
              "    <tr>\n",
              "      <th>1</th>\n",
              "      <td>2</td>\n",
              "      <td>1</td>\n",
              "      <td>36754.000000</td>\n",
              "      <td>934.0</td>\n",
              "      <td>38.0</td>\n",
              "      <td>1</td>\n",
              "      <td>62.0</td>\n",
              "      <td>160.0</td>\n",
              "      <td>34328.0</td>\n",
              "      <td>13.0</td>\n",
              "      <td>636502.0</td>\n",
              "    </tr>\n",
              "    <tr>\n",
              "      <th>2</th>\n",
              "      <td>13</td>\n",
              "      <td>2</td>\n",
              "      <td>36732.000000</td>\n",
              "      <td>883.0</td>\n",
              "      <td>35.0</td>\n",
              "      <td>1</td>\n",
              "      <td>63.0</td>\n",
              "      <td>105.0</td>\n",
              "      <td>32434.0</td>\n",
              "      <td>17.0</td>\n",
              "      <td>242367.0</td>\n",
              "    </tr>\n",
              "    <tr>\n",
              "      <th>3</th>\n",
              "      <td>0</td>\n",
              "      <td>2</td>\n",
              "      <td>36706.000000</td>\n",
              "      <td>887.0</td>\n",
              "      <td>31.0</td>\n",
              "      <td>1</td>\n",
              "      <td>60.0</td>\n",
              "      <td>174.0</td>\n",
              "      <td>32558.0</td>\n",
              "      <td>11.0</td>\n",
              "      <td>4408916.0</td>\n",
              "    </tr>\n",
              "    <tr>\n",
              "      <th>4</th>\n",
              "      <td>9</td>\n",
              "      <td>3</td>\n",
              "      <td>36669.000000</td>\n",
              "      <td>877.0</td>\n",
              "      <td>39.0</td>\n",
              "      <td>2</td>\n",
              "      <td>92.0</td>\n",
              "      <td>153.0</td>\n",
              "      <td>32159.0</td>\n",
              "      <td>23.0</td>\n",
              "      <td>3104060.0</td>\n",
              "    </tr>\n",
              "    <tr>\n",
              "      <th>...</th>\n",
              "      <td>...</td>\n",
              "      <td>...</td>\n",
              "      <td>...</td>\n",
              "      <td>...</td>\n",
              "      <td>...</td>\n",
              "      <td>...</td>\n",
              "      <td>...</td>\n",
              "      <td>...</td>\n",
              "      <td>...</td>\n",
              "      <td>...</td>\n",
              "      <td>...</td>\n",
              "    </tr>\n",
              "    <tr>\n",
              "      <th>496</th>\n",
              "      <td>22</td>\n",
              "      <td>3</td>\n",
              "      <td>1641.000000</td>\n",
              "      <td>848.0</td>\n",
              "      <td>7.0</td>\n",
              "      <td>0</td>\n",
              "      <td>12.0</td>\n",
              "      <td>181.0</td>\n",
              "      <td>1392.0</td>\n",
              "      <td>4.0</td>\n",
              "      <td>105882.0</td>\n",
              "    </tr>\n",
              "    <tr>\n",
              "      <th>497</th>\n",
              "      <td>22</td>\n",
              "      <td>3</td>\n",
              "      <td>1517.000000</td>\n",
              "      <td>852.0</td>\n",
              "      <td>12.0</td>\n",
              "      <td>1</td>\n",
              "      <td>16.0</td>\n",
              "      <td>198.0</td>\n",
              "      <td>1292.0</td>\n",
              "      <td>6.0</td>\n",
              "      <td>105882.0</td>\n",
              "    </tr>\n",
              "    <tr>\n",
              "      <th>498</th>\n",
              "      <td>22</td>\n",
              "      <td>3</td>\n",
              "      <td>612.000000</td>\n",
              "      <td>853.0</td>\n",
              "      <td>9.0</td>\n",
              "      <td>2</td>\n",
              "      <td>19.0</td>\n",
              "      <td>189.0</td>\n",
              "      <td>522.0</td>\n",
              "      <td>6.0</td>\n",
              "      <td>105882.0</td>\n",
              "    </tr>\n",
              "    <tr>\n",
              "      <th>499</th>\n",
              "      <td>22</td>\n",
              "      <td>3</td>\n",
              "      <td>110.000000</td>\n",
              "      <td>852.0</td>\n",
              "      <td>8.0</td>\n",
              "      <td>0</td>\n",
              "      <td>18.0</td>\n",
              "      <td>170.0</td>\n",
              "      <td>94.0</td>\n",
              "      <td>8.0</td>\n",
              "      <td>105882.0</td>\n",
              "    </tr>\n",
              "    <tr>\n",
              "      <th>500</th>\n",
              "      <td>9</td>\n",
              "      <td>7</td>\n",
              "      <td>24747.468687</td>\n",
              "      <td>863.0</td>\n",
              "      <td>35.0</td>\n",
              "      <td>1</td>\n",
              "      <td>19.0</td>\n",
              "      <td>149.0</td>\n",
              "      <td>0.0</td>\n",
              "      <td>6.0</td>\n",
              "      <td>3104060.0</td>\n",
              "    </tr>\n",
              "  </tbody>\n",
              "</table>\n",
              "<p>501 rows × 11 columns</p>\n",
              "</div>"
            ],
            "text/plain": [
              "    State  Type  ...  # of hospitals  Foreign Visitors\n",
              "0      31     0  ...            17.0            2769.0\n",
              "1       2     1  ...            13.0          636502.0\n",
              "2      13     2  ...            17.0          242367.0\n",
              "3       0     2  ...            11.0         4408916.0\n",
              "4       9     3  ...            23.0         3104060.0\n",
              "..    ...   ...  ...             ...               ...\n",
              "496    22     3  ...             4.0          105882.0\n",
              "497    22     3  ...             6.0          105882.0\n",
              "498    22     3  ...             6.0          105882.0\n",
              "499    22     3  ...             8.0          105882.0\n",
              "500     9     7  ...             6.0         3104060.0\n",
              "\n",
              "[501 rows x 11 columns]"
            ]
          },
          "metadata": {
            "tags": []
          },
          "execution_count": 182
        }
      ]
    },
    {
      "cell_type": "code",
      "metadata": {
        "id": "3v9LqIMfd-cn",
        "colab_type": "code",
        "colab": {}
      },
      "source": [
        "df3['Foreign Visitors'] = [2647 ,\n",
        "640376 ,\n",
        "231905 ,\n",
        "4435383 ,\n",
        "3123071 ,\n",
        "640376 ,\n",
        "4429628 ,\n",
        "120844 ,\n",
        "610297 ,\n",
        "1479325 ,\n",
        "1498583 ,\n",
        "4435383 ,\n",
        "5430 ,\n",
        "160572 ,\n",
        "4435383 ,\n",
        "640376 ,\n",
        "640376 ,\n",
        "422791 ,\n",
        "422321 ,\n",
        "227592 ,\n",
        "610297 ,\n",
        "1483191 ,\n",
        "56027 ,\n",
        "4435383 ,\n",
        "1483191 ,\n",
        "640376 ,\n",
        "4712612 ,\n",
        "3123071 ,\n",
        "2647 ,\n",
        "274875 ,\n",
        "638954 ,\n",
        "1481130 ,\n",
        "1483191 ,\n",
        "4435383 ,\n",
        "4435383 ,\n",
        "231905 ,\n",
        "3123071 ,\n",
        "1483191 ,\n",
        "422791 ,\n",
        "1483191 ,\n",
        "4712612 ,\n",
        "4435383 ,\n",
        "388541 ,\n",
        "285548 ,\n",
        "101309 ,\n",
        "422791 ,\n",
        "925756 ,\n",
        "927164 ,\n",
        "405451 ,\n",
        "4425377 ,\n",
        "161330 ,\n",
        "161330 ,\n",
        "978925 ,\n",
        "64380 ,\n",
        "285548 ,\n",
        "227592 ,\n",
        "3123071 ,\n",
        "925756 ,\n",
        "120632 ,\n",
        "4712612 ,\n",
        "1483191 ,\n",
        "4435383 ,\n",
        "303910 ,\n",
        "925756 ,\n",
        "982921 ,\n",
        "3121397 ,\n",
        "159820 ,\n",
        "4436826 ,\n",
        "3121397 ,\n",
        "401506 ,\n",
        "401506 ,\n",
        "3121397 ,\n",
        "3121397 ,\n",
        "120632 ,\n",
        "303910 ,\n",
        "33375 ,\n",
        "1483191 ,\n",
        "4712612 ,\n",
        "1483191 ,\n",
        "227967 ,\n",
        "4429628 ,\n",
        "927089 ,\n",
        "610297 ,\n",
        "610297 ,\n",
        "4496020 ,\n",
        "272947 ,\n",
        "272947 ,\n",
        "120844 ,\n",
        "3119985 ,\n",
        "6127 ,\n",
        "404080 ,\n",
        "982892 ,\n",
        "404080 ,\n",
        "404080 ,\n",
        "3123071 ,\n",
        "4712612 ,\n",
        "285548 ,\n",
        "4712612 ,\n",
        "3123071 ,\n",
        "160572 ,\n",
        "1483191 ,\n",
        "4712612 ,\n",
        "4435383 ,\n",
        "3123071 ,\n",
        "640376 ,\n",
        "4435383 ,\n",
        "6116 ,\n",
        "640376 ,\n",
        "640376 ,\n",
        "1483191 ,\n",
        "4712612 ,\n",
        "925756 ,\n",
        "23649 ,\n",
        "4712612 ,\n",
        "64062 ,\n",
        "4435383 ,\n",
        "2647 ,\n",
        "1498583 ,\n",
        "1483191 ,\n",
        "1483191 ,\n",
        "1494894 ,\n",
        "638154 ,\n",
        "33375 ,\n",
        "285548 ,\n",
        "6116 ,\n",
        "227592 ,\n",
        "4435383 ,\n",
        "4712612 ,\n",
        "4712612 ,\n",
        "4435383 ,\n",
        "101309 ,\n",
        "925756 ,\n",
        "925756 ,\n",
        "4712612 ,\n",
        "4712612 ,\n",
        "422791 ,\n",
        "101309 ,\n",
        "64062 ,\n",
        "640376 ,\n",
        "303910 ,\n",
        "422791 ,\n",
        "4435383 ,\n",
        "285548 ,\n",
        "227592 ,\n",
        "1483191 ,\n",
        "422791 ,\n",
        "227592 ,\n",
        "4712612 ,\n",
        "4712612 ,\n",
        "983397 ,\n",
        "3123071 ,\n",
        "1483191 ,\n",
        "4435383 ,\n",
        "983397 ,\n",
        "4712612 ,\n",
        "4419446 ,\n",
        "406947 ,\n",
        "3123071 ,\n",
        "303910 ,\n",
        "101309 ,\n",
        "23649 ,\n",
        "7678 ,\n",
        "983397 ,\n",
        "1483191 ,\n",
        "1483191 ,\n",
        "983397 ,\n",
        "1483191 ,\n",
        "1483191 ,\n",
        "3123071 ,\n",
        "3123071 ,\n",
        "640376 ,\n",
        "3123071 ,\n",
        "1483191 ,\n",
        "4712612 ,\n",
        "4435383 ,\n",
        "640376 ,\n",
        "285548 ,\n",
        "285548 ,\n",
        "285548 ,\n",
        "983397 ,\n",
        "23649 ,\n",
        "274875 ,\n",
        "638954 ,\n",
        "4420040 ,\n",
        "64596 ,\n",
        "1481130 ,\n",
        "274875 ,\n",
        "102121 ,\n",
        "1481130 ,\n",
        "638954 ,\n",
        "638954 ,\n",
        "303910 ,\n",
        "285548 ,\n",
        "3123071 ,\n",
        "303910 ,\n",
        "4435383 ,\n",
        "925756 ,\n",
        "4712612 ,\n",
        "1483191 ,\n",
        "1498583 ,\n",
        "983397 ,\n",
        "3123071 ,\n",
        "925756 ,\n",
        "1498583 ,\n",
        "1498583 ,\n",
        "640376 ,\n",
        "640376 ,\n",
        "4435383 ,\n",
        "285548 ,\n",
        "4712612 ,\n",
        "33375 ,\n",
        "120632 ,\n",
        "4435383 ,\n",
        "4435383 ,\n",
        "3123071 ,\n",
        "3123071 ,\n",
        "4712612 ,\n",
        "4435383 ,\n",
        "983397 ,\n",
        "640376 ,\n",
        "1483191 ,\n",
        "4435383 ,\n",
        "4435383 ,\n",
        "640376 ,\n",
        "640376 ,\n",
        "422791 ,\n",
        "4435383 ,\n",
        "3123071 ,\n",
        "640376 ,\n",
        "4435383 ,\n",
        "4712612 ,\n",
        "303910 ,\n",
        "4435383 ,\n",
        "4712612 ,\n",
        "1498583 ,\n",
        "422791 ,\n",
        "1483191 ,\n",
        "4435383 ,\n",
        "925756 ,\n",
        "640376 ,\n",
        "4435383 ,\n",
        "1483191 ,\n",
        "285548 ,\n",
        "4712612 ,\n",
        "101309 ,\n",
        "4712612 ,\n",
        "4712612 ,\n",
        "422791 ,\n",
        "101309 ,\n",
        "3123071 ,\n",
        "285548 ,\n",
        "422791 ,\n",
        "422791 ,\n",
        "4712612 ,\n",
        "4435383 ,\n",
        "23649 ,\n",
        "3123071 ,\n",
        "422791 ,\n",
        "640376 ,\n",
        "1479881 ,\n",
        "926283 ,\n",
        "405316 ,\n",
        "3113824 ,\n",
        "1479881 ,\n",
        "232996 ,\n",
        "3113824 ,\n",
        "640376 ,\n",
        "3123071 ,\n",
        "925756 ,\n",
        "3123071 ,\n",
        "1483191 ,\n",
        "4712612 ,\n",
        "640376 ,\n",
        "4712612 ,\n",
        "303910 ,\n",
        "422791 ,\n",
        "4712612 ,\n",
        "4435383 ,\n",
        "160572 ,\n",
        "983397 ,\n",
        "3123071 ,\n",
        "23649 ,\n",
        "101309 ,\n",
        "388541 ,\n",
        "422791 ,\n",
        "23649 ,\n",
        "227592 ,\n",
        "231905 ,\n",
        "303910 ,\n",
        "4712612 ,\n",
        "640376 ,\n",
        "422791 ,\n",
        "4712612 ,\n",
        "4712612 ,\n",
        "3123071 ,\n",
        "3123071 ,\n",
        "925756 ,\n",
        "1483191 ,\n",
        "983397 ,\n",
        "3123071 ,\n",
        "227592 ,\n",
        "231905 ,\n",
        "4435383 ,\n",
        "3123071 ,\n",
        "4712612 ,\n",
        "388541 ,\n",
        "4712612 ,\n",
        "227592 ,\n",
        "640376 ,\n",
        "983397 ,\n",
        "3123071 ,\n",
        "1498583 ,\n",
        "4712612 ,\n",
        "640376 ,\n",
        "64062 ,\n",
        "285548 ,\n",
        "422791 ,\n",
        "1483191 ,\n",
        "640376 ,\n",
        "925756 ,\n",
        "1483191 ,\n",
        "4435383 ,\n",
        "4712612 ,\n",
        "3117 ,\n",
        "1483191 ,\n",
        "4435383 ,\n",
        "4712612 ,\n",
        "3123071 ,\n",
        "3123071 ,\n",
        "3123071 ,\n",
        "983397 ,\n",
        "231905 ,\n",
        "422166 ,\n",
        "422166 ,\n",
        "3117085 ,\n",
        "4420040 ,\n",
        "422166 ,\n",
        "23845 ,\n",
        "4420040 ,\n",
        "274875 ,\n",
        "3117085 ,\n",
        "422166 ,\n",
        "4435383 ,\n",
        "1483191 ,\n",
        "231905 ,\n",
        "1483191 ,\n",
        "1483191 ,\n",
        "101309 ,\n",
        "231905 ,\n",
        "1483191 ,\n",
        "3123071 ,\n",
        "160572 ,\n",
        "1498583 ,\n",
        "5457 ,\n",
        "925756 ,\n",
        "4712612 ,\n",
        "1498583 ,\n",
        "4712612 ,\n",
        "231905 ,\n",
        "1718 ,\n",
        "422791 ,\n",
        "1483191 ,\n",
        "4435383 ,\n",
        "231905 ,\n",
        "925756 ,\n",
        "3123071 ,\n",
        "101704 ,\n",
        "4424152 ,\n",
        "638229 ,\n",
        "1479637 ,\n",
        "4700206 ,\n",
        "3114218 ,\n",
        "422321 ,\n",
        "4700206 ,\n",
        "422321 ,\n",
        "101309 ,\n",
        "422791 ,\n",
        "231905 ,\n",
        "3123071 ,\n",
        "3123071 ,\n",
        "925756 ,\n",
        "4712612 ,\n",
        "3123071 ,\n",
        "285548 ,\n",
        "3123071 ,\n",
        "4435383 ,\n",
        "1498583 ,\n",
        "4435383 ,\n",
        "4712612 ,\n",
        "23649 ,\n",
        "3123071 ,\n",
        "303910 ,\n",
        "1483191 ,\n",
        "422791 ,\n",
        "4712612 ,\n",
        "4712612 ,\n",
        "983397 ,\n",
        "925756 ,\n",
        "422791 ,\n",
        "1495887 ,\n",
        "1481130 ,\n",
        "23845 ,\n",
        "4703199 ,\n",
        "1481130 ,\n",
        "3117085 ,\n",
        "3117085 ,\n",
        "4420040 ,\n",
        "3146 ,\n",
        "422166 ,\n",
        "983397 ,\n",
        "4435383 ,\n",
        "3123071 ,\n",
        "4712612 ,\n",
        "640376 ,\n",
        "4712612 ,\n",
        "33375 ,\n",
        "3123071 ,\n",
        "6116 ,\n",
        "925756 ,\n",
        "1483191 ,\n",
        "4435383 ,\n",
        "101309 ,\n",
        "3123071 ,\n",
        "4712612 ,\n",
        "33375 ,\n",
        "1483191 ,\n",
        "762 ,\n",
        "227592 ,\n",
        "1498583 ,\n",
        "231905 ,\n",
        "101309 ,\n",
        "3123071 ,\n",
        "983397 ,\n",
        "33375 ,\n",
        "101309 ,\n",
        "101309 ,\n",
        "101309 ,\n",
        "422791 ,\n",
        "1483191 ,\n",
        "101309 ,\n",
        "227592 ,\n",
        "101309 ,\n",
        "4712612 ,\n",
        "1498583 ,\n",
        "640376 ,\n",
        "3123071 ,\n",
        "101309 ,\n",
        "227592 ,\n",
        "303910 ,\n",
        "101309 ,\n",
        "3123071 ,\n",
        "285548 ,\n",
        "4435383 ,\n",
        "925756 ,\n",
        "101309 ,\n",
        "101309 ,\n",
        "101309 ,\n",
        "101309 ,\n",
        "285548 ,\n",
        "983397 ,\n",
        "227592 ,\n",
        "101309 ,\n",
        "101309 ,\n",
        "101309 ,\n",
        "1483191 ,\n",
        "101309 ,\n",
        "101309 ,\n",
        "101309 ,\n",
        "64062 ,\n",
        "101309 ,\n",
        "227592 ,\n",
        "101309 ,\n",
        "101309 ,\n",
        "101309 ,\n",
        "101309 ,\n",
        "231905 ,\n",
        "101309 ,\n",
        "1498583 ,\n",
        "101309 ,\n",
        "640376 ,\n",
        "244169 ,\n",
        "101309 ,\n",
        "101309 ,\n",
        "227592 ,\n",
        "4435383 ,\n",
        "925756 ,\n",
        "101309 ,\n",
        "101309 ,\n",
        "101309 ,\n",
        "101309 ,\n",
        "303910 ,\n",
        "1483191 ,\n",
        "101309 ,\n",
        "101309 ,\n",
        "101309 ,\n",
        "101309 ,\n",
        "101309 ,\n",
        "101309 ,\n",
        "101309 ,\n",
        "101309 ,\n",
        "3123071 ]"
      ],
      "execution_count": 183,
      "outputs": []
    },
    {
      "cell_type": "code",
      "metadata": {
        "id": "kzoXAsj0evQs",
        "colab_type": "code",
        "colab": {
          "base_uri": "https://localhost:8080/",
          "height": 195
        },
        "outputId": "d75ac2d0-45f0-4e1f-f9c3-29e80fcec9b5"
      },
      "source": [
        "df3.head()"
      ],
      "execution_count": 184,
      "outputs": [
        {
          "output_type": "execute_result",
          "data": {
            "text/html": [
              "<div>\n",
              "<style scoped>\n",
              "    .dataframe tbody tr th:only-of-type {\n",
              "        vertical-align: middle;\n",
              "    }\n",
              "\n",
              "    .dataframe tbody tr th {\n",
              "        vertical-align: top;\n",
              "    }\n",
              "\n",
              "    .dataframe thead th {\n",
              "        text-align: right;\n",
              "    }\n",
              "</style>\n",
              "<table border=\"1\" class=\"dataframe\">\n",
              "  <thead>\n",
              "    <tr style=\"text-align: right;\">\n",
              "      <th></th>\n",
              "      <th>State</th>\n",
              "      <th>Type</th>\n",
              "      <th>Population [2011]</th>\n",
              "      <th>Sex Ratio</th>\n",
              "      <th>Avg Temp</th>\n",
              "      <th>SWM</th>\n",
              "      <th>Toilets Avl</th>\n",
              "      <th>Water Purity</th>\n",
              "      <th>Female Population</th>\n",
              "      <th># of hospitals</th>\n",
              "      <th>Foreign Visitors</th>\n",
              "    </tr>\n",
              "  </thead>\n",
              "  <tbody>\n",
              "    <tr>\n",
              "      <th>0</th>\n",
              "      <td>31</td>\n",
              "      <td>0</td>\n",
              "      <td>36774.0</td>\n",
              "      <td>931.0</td>\n",
              "      <td>10.0</td>\n",
              "      <td>0</td>\n",
              "      <td>94.0</td>\n",
              "      <td>114.0</td>\n",
              "      <td>34237.0</td>\n",
              "      <td>17.0</td>\n",
              "      <td>2647</td>\n",
              "    </tr>\n",
              "    <tr>\n",
              "      <th>1</th>\n",
              "      <td>2</td>\n",
              "      <td>1</td>\n",
              "      <td>36754.0</td>\n",
              "      <td>934.0</td>\n",
              "      <td>38.0</td>\n",
              "      <td>1</td>\n",
              "      <td>62.0</td>\n",
              "      <td>160.0</td>\n",
              "      <td>34328.0</td>\n",
              "      <td>13.0</td>\n",
              "      <td>640376</td>\n",
              "    </tr>\n",
              "    <tr>\n",
              "      <th>2</th>\n",
              "      <td>13</td>\n",
              "      <td>2</td>\n",
              "      <td>36732.0</td>\n",
              "      <td>883.0</td>\n",
              "      <td>35.0</td>\n",
              "      <td>1</td>\n",
              "      <td>63.0</td>\n",
              "      <td>105.0</td>\n",
              "      <td>32434.0</td>\n",
              "      <td>17.0</td>\n",
              "      <td>231905</td>\n",
              "    </tr>\n",
              "    <tr>\n",
              "      <th>3</th>\n",
              "      <td>0</td>\n",
              "      <td>2</td>\n",
              "      <td>36706.0</td>\n",
              "      <td>887.0</td>\n",
              "      <td>31.0</td>\n",
              "      <td>1</td>\n",
              "      <td>60.0</td>\n",
              "      <td>174.0</td>\n",
              "      <td>32558.0</td>\n",
              "      <td>11.0</td>\n",
              "      <td>4435383</td>\n",
              "    </tr>\n",
              "    <tr>\n",
              "      <th>4</th>\n",
              "      <td>9</td>\n",
              "      <td>3</td>\n",
              "      <td>36669.0</td>\n",
              "      <td>877.0</td>\n",
              "      <td>39.0</td>\n",
              "      <td>2</td>\n",
              "      <td>92.0</td>\n",
              "      <td>153.0</td>\n",
              "      <td>32159.0</td>\n",
              "      <td>23.0</td>\n",
              "      <td>3123071</td>\n",
              "    </tr>\n",
              "  </tbody>\n",
              "</table>\n",
              "</div>"
            ],
            "text/plain": [
              "  State  Type  ...  # of hospitals  Foreign Visitors\n",
              "0    31     0  ...            17.0              2647\n",
              "1     2     1  ...            13.0            640376\n",
              "2    13     2  ...            17.0            231905\n",
              "3     0     2  ...            11.0           4435383\n",
              "4     9     3  ...            23.0           3123071\n",
              "\n",
              "[5 rows x 11 columns]"
            ]
          },
          "metadata": {
            "tags": []
          },
          "execution_count": 184
        }
      ]
    },
    {
      "cell_type": "code",
      "metadata": {
        "id": "J9sr9ucfeLsE",
        "colab_type": "code",
        "colab": {
          "base_uri": "https://localhost:8080/",
          "height": 195
        },
        "outputId": "5f504bc0-4cd2-499d-ac67-0949ec1540bc"
      },
      "source": [
        "#normalise train dataset\n",
        "mm_scaler = preprocessing.MinMaxScaler()\n",
        "Train_minmax = mm_scaler.fit_transform(df3)\n",
        "X=pd.DataFrame(Train_minmax)\n",
        "X.head()"
      ],
      "execution_count": 185,
      "outputs": [
        {
          "output_type": "execute_result",
          "data": {
            "text/html": [
              "<div>\n",
              "<style scoped>\n",
              "    .dataframe tbody tr th:only-of-type {\n",
              "        vertical-align: middle;\n",
              "    }\n",
              "\n",
              "    .dataframe tbody tr th {\n",
              "        vertical-align: top;\n",
              "    }\n",
              "\n",
              "    .dataframe thead th {\n",
              "        text-align: right;\n",
              "    }\n",
              "</style>\n",
              "<table border=\"1\" class=\"dataframe\">\n",
              "  <thead>\n",
              "    <tr style=\"text-align: right;\">\n",
              "      <th></th>\n",
              "      <th>0</th>\n",
              "      <th>1</th>\n",
              "      <th>2</th>\n",
              "      <th>3</th>\n",
              "      <th>4</th>\n",
              "      <th>5</th>\n",
              "      <th>6</th>\n",
              "      <th>7</th>\n",
              "      <th>8</th>\n",
              "      <th>9</th>\n",
              "      <th>10</th>\n",
              "    </tr>\n",
              "  </thead>\n",
              "  <tbody>\n",
              "    <tr>\n",
              "      <th>0</th>\n",
              "      <td>0.911765</td>\n",
              "      <td>0.0000</td>\n",
              "      <td>1.000000</td>\n",
              "      <td>0.723502</td>\n",
              "      <td>0.142857</td>\n",
              "      <td>0.0</td>\n",
              "      <td>0.933333</td>\n",
              "      <td>0.14</td>\n",
              "      <td>0.991315</td>\n",
              "      <td>0.518519</td>\n",
              "      <td>0.000400</td>\n",
              "    </tr>\n",
              "    <tr>\n",
              "      <th>1</th>\n",
              "      <td>0.058824</td>\n",
              "      <td>0.0625</td>\n",
              "      <td>0.999455</td>\n",
              "      <td>0.737327</td>\n",
              "      <td>0.942857</td>\n",
              "      <td>0.5</td>\n",
              "      <td>0.577778</td>\n",
              "      <td>0.60</td>\n",
              "      <td>0.993950</td>\n",
              "      <td>0.370370</td>\n",
              "      <td>0.135746</td>\n",
              "    </tr>\n",
              "    <tr>\n",
              "      <th>2</th>\n",
              "      <td>0.382353</td>\n",
              "      <td>0.1250</td>\n",
              "      <td>0.998854</td>\n",
              "      <td>0.502304</td>\n",
              "      <td>0.857143</td>\n",
              "      <td>0.5</td>\n",
              "      <td>0.588889</td>\n",
              "      <td>0.05</td>\n",
              "      <td>0.939110</td>\n",
              "      <td>0.518519</td>\n",
              "      <td>0.049056</td>\n",
              "    </tr>\n",
              "    <tr>\n",
              "      <th>3</th>\n",
              "      <td>0.000000</td>\n",
              "      <td>0.1250</td>\n",
              "      <td>0.998145</td>\n",
              "      <td>0.520737</td>\n",
              "      <td>0.742857</td>\n",
              "      <td>0.5</td>\n",
              "      <td>0.555556</td>\n",
              "      <td>0.74</td>\n",
              "      <td>0.942700</td>\n",
              "      <td>0.296296</td>\n",
              "      <td>0.941163</td>\n",
              "    </tr>\n",
              "    <tr>\n",
              "      <th>4</th>\n",
              "      <td>0.264706</td>\n",
              "      <td>0.1875</td>\n",
              "      <td>0.997136</td>\n",
              "      <td>0.474654</td>\n",
              "      <td>0.971429</td>\n",
              "      <td>1.0</td>\n",
              "      <td>0.911111</td>\n",
              "      <td>0.53</td>\n",
              "      <td>0.931147</td>\n",
              "      <td>0.740741</td>\n",
              "      <td>0.662650</td>\n",
              "    </tr>\n",
              "  </tbody>\n",
              "</table>\n",
              "</div>"
            ],
            "text/plain": [
              "         0       1         2         3   ...    7         8         9         10\n",
              "0  0.911765  0.0000  1.000000  0.723502  ...  0.14  0.991315  0.518519  0.000400\n",
              "1  0.058824  0.0625  0.999455  0.737327  ...  0.60  0.993950  0.370370  0.135746\n",
              "2  0.382353  0.1250  0.998854  0.502304  ...  0.05  0.939110  0.518519  0.049056\n",
              "3  0.000000  0.1250  0.998145  0.520737  ...  0.74  0.942700  0.296296  0.941163\n",
              "4  0.264706  0.1875  0.997136  0.474654  ...  0.53  0.931147  0.740741  0.662650\n",
              "\n",
              "[5 rows x 11 columns]"
            ]
          },
          "metadata": {
            "tags": []
          },
          "execution_count": 185
        }
      ]
    },
    {
      "cell_type": "code",
      "metadata": {
        "id": "I1mG_g6leO9C",
        "colab_type": "code",
        "colab": {}
      },
      "source": [
        "y_hat = model_xgb.predict(X)"
      ],
      "execution_count": 186,
      "outputs": []
    },
    {
      "cell_type": "code",
      "metadata": {
        "id": "cRcFv9ose42R",
        "colab_type": "code",
        "colab": {}
      },
      "source": [
        "Cities[\"Covid Cases\"] = y_hat"
      ],
      "execution_count": 187,
      "outputs": []
    },
    {
      "cell_type": "code",
      "metadata": {
        "id": "iRH_LKtoe_P7",
        "colab_type": "code",
        "colab": {}
      },
      "source": [
        "Cities.to_csv(\"part2.csv\")"
      ],
      "execution_count": 189,
      "outputs": []
    },
    {
      "cell_type": "code",
      "metadata": {
        "id": "-PEp3-_hfBID",
        "colab_type": "code",
        "colab": {}
      },
      "source": [
        ""
      ],
      "execution_count": null,
      "outputs": []
    }
  ]
}